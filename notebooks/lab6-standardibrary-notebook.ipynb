{
 "cells": [
  {
   "cell_type": "markdown",
   "metadata": {},
   "source": [
    "# Lab 6: Standard Library"
   ]
  },
  {
   "cell_type": "markdown",
   "metadata": {},
   "source": [
    "## Overview\n",
    "\n",
    "The goal of this lab is to become familiar with the tools provided by Python's standard library. We want you to gain practice with the most common utilities of the standard library and also to be aware of the rest of the tools in case you ever need them.\n",
    "\n",
    "**We expect that most of the time in this lab will be spent _reading_ documentation for the modules in the standard library that you find intriguing or applicable to your interests.** If you have any questions about any standard library features, please ask us!"
   ]
  },
  {
   "cell_type": "markdown",
   "metadata": {},
   "source": [
    "## Read\n",
    "\n",
    "We get it. Reading documentation doesn't sound like a fun way to spend an afternoon. However, this is one of a rare few times when you will have dedicated class time to take a deep dive into a library tool. Python's standard library is huge, and your interests may not span all of it. However, we'd bet that you can find something you enjoy in the library.\n",
    "\n",
    "Remember that you can follow along with the documentation's examples in the interactive interpreter - we recommend this approach, so that you're both reading about and practicing with the modules you like.\n",
    "\n",
    "Several of the documentation pages have links to the source code - if you're interested in seeing examples of well-crafted Python modules, there's no better place to look than the standard library!\n",
    "\n",
    "Ask questions! You should plan to spend around the first half of lab time in this section, reading about features of the standard library.\n",
    "\n",
    "If you don't know which modules to look at, we've put together a list of some of our favorite modules that *weren't* covered in lecture, based on some common general interests. Ask us about what you'd like to learn more about, and we'll point in the right general direction.\n",
    "\n",
    "The top-level categories of tools in the standard library are:\n",
    "\n",
    "- Built-in [Functions](https://docs.python.org/3/library/functions.html), [Constants](https://docs.python.org/3/library/constants.html), [Types](https://docs.python.org/3/library/stdtypes.html), and [Exceptions](https://docs.python.org/3/library/exceptions.html)\n",
    "- [Text Processing Services](https://docs.python.org/3/library/text.html)\n",
    "- [Binary Data Services](https://docs.python.org/3/library/binary.html)\n",
    "- [Data Types](https://docs.python.org/3/library/datatypes.html)\n",
    "- [Numeric and Mathematical Modules](https://docs.python.org/3/library/numeric.html)\n",
    "- [Functional Programming Modules](https://docs.python.org/3/library/functional.html)\n",
    "- [File and Directory Access](https://docs.python.org/3/library/filesys.html)\n",
    "- [Data Persistence](https://docs.python.org/3/library/persistence.html)\n",
    "- [Data Compression and Archiving](https://docs.python.org/3/library/archiving.html)\n",
    "- [File Formats](https://docs.python.org/3/library/fileformats.html)\n",
    "- [Cryptographic Services](https://docs.python.org/3/library/crypto.html)\n",
    "- [Generic Operating System Services](https://docs.python.org/3/library/allos.html)\n",
    "- [Concurrent Execution](https://docs.python.org/3/library/concurrency.html)\n",
    "- [Context Variables](https://docs.python.org/3/library/contextvars.html)\n",
    "- [Networking and Interprocess Communication](https://docs.python.org/3/library/ipc.html)\n",
    "- [Internet Data Handling](https://docs.python.org/3/library/netdata.html)\n",
    "- [Structured Markup Processing Tools](https://docs.python.org/3/library/markup.html)\n",
    "- [Internet Protocols and Support](https://docs.python.org/3/library/internet.html)\n",
    "- [Multimedia Services](https://docs.python.org/3/library/mm.html)\n",
    "- [Internationalization](https://docs.python.org/3/library/i18n.html)\n",
    "- [Program Frameworks](https://docs.python.org/3/library/frameworks.html)\n",
    "- [Graphical User Interfaces with Tk](https://docs.python.org/3/library/tk.html)\n",
    "- [Development Tools](https://docs.python.org/3/library/development.html)\n",
    "- [Debugging and Profiling](https://docs.python.org/3/library/debug.html)\n",
    "- [Software Packaging and Distribution](https://docs.python.org/3/library/distribution.html)\n",
    "- [Python Runtime Services](https://docs.python.org/3/library/python.html)\n",
    "- [Custom Python Interpreters](https://docs.python.org/3/library/custominterp.html)\n",
    "- [Importing Modules](https://docs.python.org/3/library/modules.html)\n",
    "- [Python Language Services](https://docs.python.org/3/library/language.html)"
   ]
  },
  {
   "cell_type": "markdown",
   "metadata": {},
   "source": [
    "### [Take Me To The Standard Library (Click Me!)](https://docs.python.org/3/library/)"
   ]
  },
  {
   "cell_type": "markdown",
   "metadata": {},
   "source": [
    "## Write\n",
    "\n",
    "In this section, you'll practice using some of the more common modules in the Python standard library."
   ]
  },
  {
   "cell_type": "markdown",
   "metadata": {},
   "source": [
    "### Manipulating `collections`\n",
    "\n",
    "**Before continuing, make sure you have read the [`collections` documentation](https://docs.python.org/3/library/collections.html) through 8.3.6.1.**"
   ]
  },
  {
   "cell_type": "markdown",
   "metadata": {},
   "source": [
    "##### Mechanics: `collections.namedtuple`\n",
    "\n",
    "Rewrite the following code to be more Pythonic. Use `collections.namedtuple` to add readable attribute references.\n",
    "\n",
    "```Python\n",
    "lassie = ('Lassie', 'dog', 'black', 12)\n",
    "astro = ('Astro', 'dog', 'grey', 15)\n",
    "mrpb = ('Mr. Peanutbutter', 'dog', 'golden', 35)\n",
    "bojack = ('BoJack Horseman', 'horse', 'brown', 52)\n",
    "pc = ('Princess Carolyn', 'cat', 'pink', 34)\n",
    "tinkles = ('Mr. Tinkles', 'cat', 'white', 7)\n",
    "pupper = ('Bella', 'pupper', 'brown', 0.5)\n",
    "doggo = ('Max', 'doggo', 'brown', 5)\n",
    "seuss = ('The Cat in the Hat', 'cat', 'stripey', 27)\n",
    "pluto = ('Pluto (Disney)', 'dog', 'orange', 3)\n",
    "plu2o = ('Pluto (space)', 'planet', 'brownish', 4500000000)\n",
    "yertle = ('Yertle', 'turtle', 'green', 130)\n",
    "\n",
    "for animal in [lassie, astro, mrpb, bojack, pc, tinkles, pupper, doggo, seuss, pluto, plu2o, yertle]:\n",
    "    if animal[1] == 'dog' or animal[1] == 'doggo' or animal[1] == 'pupper':\n",
    "        if animal[3] > 5:\n",
    "            print(animal[0] + ' is an old ' + animal[2] + ' ' + animal[1] + ' who is ' + str(animal[3]) + ' years old.')\n",
    "        else:\n",
    "            print(animal[0] + ' is a young ' + animal[2] + ' ' + animal[1] + ' who is ' + str(animal[3]) + ' years old.')\n",
    "    else:\n",
    "        print(animal[0] + ' is a non-canine ' + animal[2] + ' ' + animal[1] + '.')\n",
    "```\n",
    "\n",
    "This code outputs:\n",
    "\n",
    "```\n",
    "Lassie is an old black dog who is 12 years old.\n",
    "Astro is an old grey dog who is 15 years old.\n",
    "Mr. Peanutbutter is an old golden dog who is 35 years old.\n",
    "BoJack Horseman is a non-canine brown horse.\n",
    "Princess Carolyn is a non-canine pink cat.\n",
    "Mr. Tinkles is a non-canine white cat.\n",
    "Bella is a young brown pupper who is 0.5 years old.\n",
    "Max is a young brown doggo who is 5 years old.\n",
    "The Cat in the Hat is a non-canine stripey cat.\n",
    "Pluto (Disney) is a young orange dog who is 3 years old.\n",
    "Pluto (space) is a non-canine brownish planet.\n",
    "Yertle is a non-canine green turtle.\n",
    "```"
   ]
  },
  {
   "cell_type": "code",
   "execution_count": 3,
   "metadata": {},
   "outputs": [
    {
     "name": "stdout",
     "output_type": "stream",
     "text": [
      "Lassie is an old black dog who is 12 years old.\n",
      "Astro is an old grey dog who is 15 years old.\n",
      "Mr. Peanutbutter is an old golden dog who is 35 years old.\n",
      "BoJack Horseman is a non-canine brown horse.\n",
      "Princess Carolyn is a non-canine pink cat.\n",
      "Mr. Tinkles is a non-canine white cat.\n",
      "Bella is a young brown pupper who is 0.5 years old.\n",
      "Max is a young brown doggo who is 5 years old.\n",
      "The Cat in the Hat is a non-canine stripey cat.\n",
      "Pluto (Disney) is a young orange dog who is 3 years old.\n",
      "Pluto (space) is a non-canine brownish planet.\n",
      "Yertle is a non-canine green turtle.\n"
     ]
    }
   ],
   "source": [
    "lassie = ('Lassie', 'dog', 'black', 12)\n",
    "astro = ('Astro', 'dog', 'grey', 15)\n",
    "mrpb = ('Mr. Peanutbutter', 'dog', 'golden', 35)\n",
    "bojack = ('BoJack Horseman', 'horse', 'brown', 52)\n",
    "pc = ('Princess Carolyn', 'cat', 'pink', 34)\n",
    "tinkles = ('Mr. Tinkles', 'cat', 'white', 7)\n",
    "pupper = ('Bella', 'pupper', 'brown', 0.5)\n",
    "doggo = ('Max', 'doggo', 'brown', 5)\n",
    "seuss = ('The Cat in the Hat', 'cat', 'stripey', 27)\n",
    "pluto = ('Pluto (Disney)', 'dog', 'orange', 3)\n",
    "plu2o = ('Pluto (space)', 'planet', 'brownish', 4500000000)\n",
    "yertle = ('Yertle', 'turtle', 'green', 130)\n",
    "\n",
    "for animal in [lassie, astro, mrpb, bojack, pc, tinkles, pupper, doggo, seuss, pluto, plu2o, yertle]:\n",
    "    if animal[1] == 'dog' or animal[1] == 'doggo' or animal[1] == 'pupper':\n",
    "        if animal[3] > 5:\n",
    "            print(animal[0] + ' is an old ' + animal[2] + ' ' + animal[1] + ' who is ' + str(animal[3]) + ' years old.')\n",
    "        else:\n",
    "            print(animal[0] + ' is a young ' + animal[2] + ' ' + animal[1] + ' who is ' + str(animal[3]) + ' years old.')\n",
    "    else:\n",
    "        print(animal[0] + ' is a non-canine ' + animal[2] + ' ' + animal[1] + '.')"
   ]
  },
  {
   "cell_type": "markdown",
   "metadata": {},
   "source": [
    "#### `collections.defaultdict` and `collections.Counter`\n",
    "\n",
    "Using `/usr/share/dict/words` (alternatively, `https://stanfordpython.com/res/misc/words`) as a data source, what are the three most common word lengths in the English language? Remember to strip off trailing whitespace."
   ]
  },
  {
   "cell_type": "code",
   "execution_count": null,
   "metadata": {},
   "outputs": [],
   "source": [
    "# Change me to another file location if you've downloaded a copy of the words.\n",
    "FILENAME = '/usr/share/dict/words'\n",
    "\n",
    "# TODO(you): Print the three most common word lengths in the English language."
   ]
  },
  {
   "cell_type": "markdown",
   "metadata": {},
   "source": [
    "##### Evil Hangman Redux (optional)\n",
    "\n",
    "Feel free to skip this section if you aren't familiar with Keith's CS106B/L assignment: \"Evil Hangman.\"\n",
    "\n",
    "Suppose you are provided with the function `mask(word, letter)` which replaces each character in `word` with a dash if that character is different than `letter` - for example, `mask('banana', 'a')  # => '-a-a-a'`.\n",
    "\n",
    "```\n",
    "def mask(word, letter):\n",
    "    return ''.join('-' if letter != ch else letter for ch in word)\n",
    "```\n",
    "\n",
    "Write a function called\n",
    "\n",
    "```\n",
    "def largest_families(words, letter, num_families):\n",
    "    pass\n",
    "```\n",
    "which returns the top `num_families` largest collections of words which share a mask, given a source collection of words and a chosen letter. Specifically, given a chosen letter, a family of words is one in which every word yields the same mask when applied with that letter. For example, if the chosen letter is `'s'`, then `'sees'`, and `'says'` would be in the same family (`'s--s'`), but `'sass'` would be in a different family (`'s-ss'`)."
   ]
  },
  {
   "cell_type": "code",
   "execution_count": null,
   "metadata": {},
   "outputs": [],
   "source": [
    "def mask(word, letter):\n",
    "    return ''.join('-' if letter != ch else letter for ch in word)\n",
    "\n",
    "def largest_families(words, letter, num_families):\n",
    "    pass"
   ]
  },
  {
   "cell_type": "markdown",
   "metadata": {},
   "source": [
    "#### Working Together\n",
    "\n",
    "Use tools from the `collections` module to implement an `Employee` database. You should read in a file of\n",
    "\n",
    "```\n",
    "employee_name    employee_manager    salary    department    title\n",
    "employee_name    employee_manager    salary    department    title\n",
    "...\n",
    "employee_name    employee_manager    salary    department    title\n",
    "```\n",
    "\n",
    "If you'd like sample data to work with, you can use the following\n",
    "```\n",
    "sredmond\tpoohbear\t0\tCS\tInstructor\n",
    "poohbear\tsahami\t500\tCS\tLecturer\n",
    "tigger\tpoohbear\t500\tCS\tTiger\n",
    "htiek\tsahami\t500\tCS\tLecturer\n",
    "sahami\tmtl\t5000\tCS\tProfessor\n",
    "guido\tguido\t50000\tPSF\tBDFL\n",
    "```\n",
    "You can assume that lines in the file are tab-separated. If you're saving the above text to a file, make sure that your text editor didn't automatically replace tabs with spaces!\n",
    "\n",
    "You should implement the following functions:\n",
    "\n",
    "```\n",
    "def directly_reports_to(employee, manager):\n",
    "    \"\"\"Return whether or not employee directly reports to manager\"\"\"\n",
    "    pass\n",
    "\n",
    "def indirectly_reports_to(employee, manager):\n",
    "    \"\"\"Return whether or not employee indirectly reports to manager\"\"\"\n",
    "    pass\n",
    "    \n",
    "def in_department(dept):\n",
    "    \"\"\"Return a collection of all employees of a given department\"\"\"\n",
    "    pass\n",
    "    \n",
    "def cost_of(dept):\n",
    "    \"\"\"Return the sum total of salaries for all employees of a given department\"\"\"\"\n",
    "    pass\n",
    "```\n",
    "\n",
    "The primary portion of this section is parsing the file and storing the employees in a your choice of data structure keyed by some of the employees' information."
   ]
  },
  {
   "cell_type": "code",
   "execution_count": null,
   "metadata": {},
   "outputs": [],
   "source": [
    "# Replace me with the name of a file containing employment data.\n",
    "FILENAME = 'replace-me.txt'\n",
    "\n",
    "# TODO(you): Read the data file and store the data in a data structure.\n",
    "\n",
    "\n",
    "def directly_reports_to(employee, manager):\n",
    "    \"\"\"Return whether or not employee directly reports to manager\"\"\"\n",
    "    pass\n",
    "\n",
    "def indirectly_reports_to(employee, manager):\n",
    "    \"\"\"Return whether or not employee indirectly reports to manager\"\"\"\n",
    "    pass\n",
    "    \n",
    "def in_department(dept):\n",
    "    \"\"\"Return a collection of all employees of a given department\"\"\"\n",
    "    pass\n",
    "    \n",
    "def cost_of(dept):\n",
    "    \"\"\"Return the sum total of salaries for all employees of a given department\"\"\"\"\n",
    "    pass"
   ]
  },
  {
   "cell_type": "markdown",
   "metadata": {},
   "source": [
    "### Extracting data with `re`\n",
    "\n",
    "If you're new to regular expressions, we recommend you read through [the official Python HOWTO](https://docs.python.org/3/howto/regex.html)\n",
    "\n",
    "Otherwise, **read through the official [`re` documentation](https://docs.python.org/3/library/re.html) through 6.2.4** (although 6.2.5 is neat)."
   ]
  },
  {
   "cell_type": "markdown",
   "metadata": {},
   "source": [
    "#### Wordplay\n",
    "\n",
    "Using the list of words found at `/usr/share/dict/words`, or alternatively `http://stanfordpython.com/res/misc/words`, determine all words that have the five vowels in order. That is, words that contain an `'a'`, `'e'`, `'i'`, `'o'`, and `'u'` in order, with any number (including 0) of word characters before the 'a', between the vowels, and after the 'u'.\n",
    "\n",
    "For example, your list should contain `\"abstemious\"`, `\"facetious\"`. We found a total of 14 matches."
   ]
  },
  {
   "cell_type": "code",
   "execution_count": null,
   "metadata": {},
   "outputs": [],
   "source": [
    "import re\n",
    "\n",
    "WORD_FILE = '/usr/share/dict/words'\n",
    "pattern = re.compile('your-regular-expression-here')\n",
    "\n",
    "# TODO(you): Print out any words that have five vowels in order."
   ]
  },
  {
   "cell_type": "markdown",
   "metadata": {},
   "source": [
    "#### Regex Crossword Checker\n",
    "\n",
    "Take a moment to play one round of [Regex Crossword](https://regexcrossword.com/) (a highly entertaining site, if you've got hours to spare).\n",
    "\n",
    "In the spirit of Regex Crossword, write a function that checks arbitrary regex crosswords. Your function should take in two lists, one representing horizontal clues and one representing vertical clues, as well as the potential solution to crossword in the form a list-of-lists in row-major order (i.e. the elements are lists representing rows of the crossword. Return whether or not the potential solution is in fact valid.\n",
    "\n",
    "```Python\n",
    "import string\n",
    "def regex_crossword_check(horizontal_patterns, vertical_patterns, candidate):\n",
    "    pass  # Your implementation here\n",
    "```\n",
    "\n",
    "For example, the call corresponding to the first \"Beginner\" puzzle (it's called \"Beatles\") would look like:\n",
    "\n",
    "```Python\n",
    "horiz = [r'HE|LL|O+', r'[PLEASE]+']\n",
    "vert = [r'[^SPEAK]+', r'EP|IP|EF']\n",
    "candidate = [\n",
    "    ['H', 'E'],\n",
    "    ['L', 'P']\n",
    "]\n",
    "regex_crossword_check(horiz, vert, candidate)  # => True\n",
    "```\n",
    "\n",
    "and the call corresponding to the second \"Experiences\" puzzle (it's called \"Royal Dinner\") would look like:\n",
    "\n",
    "```Python\n",
    "horiz = [r'(Y|F)(.)\\2[DAF]\\1', r'(U|O|I)*T[FRO]+', r'[KANE]*[GIN]*']\n",
    "vert = [r'(FI|A)+', r'(YE|OT)K', r'(.)[IF]+', r'[NODE]+', r'(FY|F|RG)+']\n",
    "candidate = [\n",
    "    ['F', 'O', 'O', 'D', 'F'],\n",
    "    ['I', 'T', 'F', 'O', 'R'],\n",
    "    ['A', 'K', 'I', 'N', 'G']\n",
    "]\n",
    "regex_crossword_check(horiz, vert, candidate)  # => True\n",
    "```\n",
    "\n",
    "Some implementation notes:\n",
    "\n",
    "* You may want to use `re.fullmatch` instead of `re.match` or `re.search`. The former matches a pattern string against an entire string, whereas the latter methods check to see if any prefix string or any substring, respectively, match the pattern.\n",
    "* You can get the width and height of the crossword from the length of the vertical and horizontal clue lists, respectively.\n",
    "* Remember your friend, `zip`!"
   ]
  },
  {
   "cell_type": "code",
   "execution_count": 4,
   "metadata": {},
   "outputs": [
    {
     "name": "stdout",
     "output_type": "stream",
     "text": [
      "None\n",
      "None\n"
     ]
    }
   ],
   "source": [
    "import string\n",
    "def regex_crossword_check(horizontal_patterns, vertical_patterns, candidate):\n",
    "    pass  # Your implementation \n",
    "\n",
    "\n",
    "horiz = [r'HE|LL|O+', r'[PLEASE]+']\n",
    "vert = [r'[^SPEAK]+', r'EP|IP|EF']\n",
    "candidate = [\n",
    "    ['H', 'E'],\n",
    "    ['L', 'P']\n",
    "]\n",
    "print(regex_crossword_check(horiz, vert, candidate))  # => True\n",
    "\n",
    "\n",
    "horiz = [r'(Y|F)(.)\\2[DAF]\\1', r'(U|O|I)*T[FRO]+', r'[KANE]*[GIN]*']\n",
    "vert = [r'(FI|A)+', r'(YE|OT)K', r'(.)[IF]+', r'[NODE]+', r'(FY|F|RG)+']\n",
    "candidate = [\n",
    "    ['F', 'O', 'O', 'D', 'F'],\n",
    "    ['I', 'T', 'F', 'O', 'R'],\n",
    "    ['A', 'K', 'I', 'N', 'G']\n",
    "]\n",
    "print(regex_crossword_check(horiz, vert, candidate))  # => True"
   ]
  },
  {
   "cell_type": "markdown",
   "metadata": {},
   "source": [
    "#### Regex Crossword Solver (challenge)\n",
    "\n",
    "Write a function to solve arbitrary regular expression crosswords.\n",
    "\n",
    "Your function should take in two lists, one representing horizontal clues and one representing vertical clues, two integers representing the width and height of the crossword, as well as a keyword argument representing the possible alphabet. Return the characters read in row-major order (consistent with the site).\n",
    "\n",
    "```Python\n",
    "import re\n",
    "import string\n",
    "def regex_crossword_solve(horizontal_patterns, vertical_patterns, width, height, alphabet=string.ascii_uppercase):\n",
    "    pass\n",
    "```\n",
    "\n",
    "For example, the call corresponding to the first \"Beginner\" puzzle (it's called \"Beatles\") would look like:\n",
    "\n",
    "```Python\n",
    "horiz = [r'HE|LL|O+', r'[PLEASE]+']\n",
    "vert = [r'[^SPEAK]+', r'EP|IP|EF']\n",
    "regex_crossword_solve(horiz, vert, 2, 2)\n",
    "```\n",
    "\n",
    "and would return the final answer `['HELP']` derived from the (unique, in this case) solution `[['H', 'E'], ['L', 'P']]`. If there are multiple answers, return them all."
   ]
  },
  {
   "cell_type": "markdown",
   "metadata": {},
   "source": [
    "#### Multidirectional (super challenge)\n",
    "\n",
    "If you look though the Regex Crossword site linked above, you'll see that some puzzles (starting from \"Double Cross\" onwards), support multiple directions. Update your function above to work first with bidirection clues (as in \"Double Cross\", \"Cities\", \"Volapük\", and \"Hamlet\"). If that's too easy, see if you can solve the types of puzzles shown in \"Hexagonal.\"\n"
   ]
  },
  {
   "cell_type": "markdown",
   "metadata": {},
   "source": [
    "#### Minimal Regex (super challenge)\n",
    "\n",
    "Given a finite set of positive samples and a finite set of negative examples, can we build a regular expression that matches the positives but rejects the negatives? Of course! We can just explicitly include the positives and explicitly reject the negatives. However, this approach leads to regexes that are quite long. For this part, write an algorithm that approximately generates the smallest regular expression that matches a list of positive samples and rejects a list of negative samples. Our metric for smallest will default to shortest, but feel free to come up with your own metric.\n",
    "\n",
    "```\n",
    "def minimal_regex(positives, negatives):\n",
    "    pass\n",
    "```\n",
    "\n",
    "*Note: this problem is NP-hard, and is tied to some deep results in complexity theory. For more information, check out [this CSTheory.SE post](http://cstheory.stackexchange.com/questions/1854/is-finding-the-minimum-regular-expression-an-np-complete-problem)*"
   ]
  },
  {
   "cell_type": "markdown",
   "metadata": {},
   "source": [
    "### Working with `itertools`\n",
    "\n",
    "**Before continuing, make sure you read the [`itertools` documentation](https://docs.python.org/3.4/library/itertools.html) through 10.1.1** (although 10.1.2 is neat)."
   ]
  },
  {
   "cell_type": "markdown",
   "metadata": {},
   "source": [
    "#### Tabulation\n",
    "\n",
    "Write a `tabulate` function to generate a computation lookup table. `tabulate` should takes in three arguments, a function, a start number (default 0), and a step size (default 1)\n",
    "\n",
    "```Python\n",
    "def tabulate(f, start=0, step=1):\n",
    "    pass\n",
    "```\n",
    "\n",
    "This function can be used as follows:\n",
    "\n",
    "```\n",
    "sqgen = tabulate(lambda x: x ** 2)\n",
    "next(sqgen)  # => 0 (which is equal to f(0))\n",
    "next(sqgen)  # => 1 (which is equal to f(1))\n",
    "next(sqgen)  # => 4 (which is equal to f(2))\n",
    "next(sqgen)  # => 9 (which is equal to f(3))\n",
    "```\n",
    "\n",
    "For reference, our implmentation is one line and 43 characters.\n",
    "\n",
    "Hint: take a look at the `itertools.count` function!"
   ]
  },
  {
   "cell_type": "markdown",
   "metadata": {},
   "source": [
    "### JSON\n",
    "\n",
    "**Before continuing, make sure you read the [`json` documentation](https://docs.python.org/3/library/json.html) through 19.2.1.**\n",
    "\n",
    "Think of a broad topic you're interested in. Then, spend a few minutes trying to find a JSON file on the internet related to your interest."
   ]
  },
  {
   "cell_type": "markdown",
   "metadata": {},
   "source": [
    "### `random`\n",
    "\n",
    "**Before continuing, make sure you read the [`random` documentation](https://docs.python.org/3/library/random.html) through 19.2.1.**\n",
    "\n",
    "There's no code in this section - just read the documentation! It's rather short."
   ]
  },
  {
   "cell_type": "markdown",
   "metadata": {},
   "source": [
    "### Using `sys` for command-line tools."
   ]
  },
  {
   "cell_type": "markdown",
   "metadata": {},
   "source": [
    "#### Addition\n",
    "\n",
    "Write a Python script `add.py` that can be run on the command line with any number of additional arguments representing numbers that you want to add up. Your script should print their sum! If there are arguments that can't be converted to floats, ignore them. If there are no additional arguments to your script, you should print an error message and exit.\n",
    "\n",
    "Recall you can use `sys.argv` to access the command-line arguments.\n",
    "\n",
    "```\n",
    "$ python3 add.py 4 1\n",
    "5.0\n",
    "$ python3 add.py 17 38 \"Hey wassup\" \"hello\"\n",
    "55.0\n",
    "$ python3 add.py 8 6 7 5 3 0 9\n",
    "38.0\n",
    "$ python3 add.py\n",
    "Usage: python3 add.py <nums>\n",
    "    \n",
    "    Add some numbers together\n",
    "```\n",
    "\n",
    "##### Argument Parsing with `argparse`\n",
    "\n",
    "Python's [`argparse` module](https://docs.python.org/3/library/argparse.html) provides a nicer way to define scripts that accept commmand-line arguments. Rewrite the above program using the tools provided by `argparse`."
   ]
  },
  {
   "cell_type": "markdown",
   "metadata": {},
   "source": [
    "#### `tree` (challenge)\n",
    "\n",
    "Write a program that emulates the command-line utility `tree`, which pretty-prints the directory structure rooted by an argument name. If there is no argument, use the current working directory. For example,\n",
    "\n",
    "```\n",
    "$ python3 tree.py python-labs/\n",
    "python-labs/\n",
    "├── LICENSE\n",
    "├── README.md\n",
    "├── ideas.md\n",
    "├── lab1-warmup.md\n",
    "├── lab2-datastructures.md\n",
    "├── lab3-functions.md\n",
    "├── lab4-fp.md\n",
    "├── lab5-oop.md\n",
    "├── lab6-standardlibrary.md\n",
    "└── solutions\n",
    "    ├── lab2solutions.py\n",
    "    ├── lab3solutions.py\n",
    "    ├── lab4solutions.py\n",
    "    ├── lab5solutions.py\n",
    "    └── lab6solutions.py\n",
    "```\n",
    "\n",
    "The above is just an example - don't worry if your actual `python-labs/` directory doesn't look like this.\n",
    "\n",
    "Use the `pathlib` library for filesystem navigation. For implementation details, check out `tree`'s [man page](http://linux.die.net/man/1/tree) or this [more helpful description](http://www.computerhope.com/unix/tree.htm). You don't need to implement any command-line flags for this part."
   ]
  },
  {
   "cell_type": "markdown",
   "metadata": {},
   "source": [
    "#### Improving `tree` (super challenge)\n",
    "\n",
    "Update your `tree` program to handle more advanced use cases, listed in the man page above. Can you handle symbolic links, maximum depth recursion, or pattern matching?\n",
    "\n",
    "You can make this tool as powerful as you'd like."
   ]
  },
  {
   "cell_type": "markdown",
   "metadata": {},
   "source": [
    "### All Together Now\n",
    "\n",
    "This final problem will incorporate all of the modules we've seen so far. We'll build a tool to determine the shortest airport journey between any two airports."
   ]
  },
  {
   "cell_type": "markdown",
   "metadata": {},
   "source": [
    "#### Airport Data\n",
    "First, the data:\n",
    "\n",
    "* [Airlines](https://raw.githubusercontent.com/jpatokal/openflights/master/data/airlines.dat)\n",
    "* [Airports](https://raw.githubusercontent.com/jpatokal/openflights/master/data/airports.dat)\n",
    "* [Routes](https://raw.githubusercontent.com/jpatokal/openflights/master/data/routes.dat)\n",
    "\n",
    "For information about the data itself, [DataHub](https://datahub.io/dataset/open-flights) has a good writeup.\n",
    "\n",
    "The information [here](https://openflights.org/data.html) is also quite good."
   ]
  },
  {
   "cell_type": "markdown",
   "metadata": {},
   "source": [
    "Write a script that, when given two airport codes (like SFO and JFK) and a maximum segment count, prints all possible ways to get from the source airport to the destination airport in at most that many segments. For example,\n",
    "\n",
    "```\n",
    "$ python3 flights.py SFO JFK 2\n",
    "SFO -> JFK\n",
    "SFO -> LAX -> JFK\n",
    "SFO -> ORD -> JFK\n",
    "SFO -> DFW -> JFK\n",
    "...\n",
    "SFO -> PDX -> JFK\n",
    "```\n"
   ]
  },
  {
   "cell_type": "markdown",
   "metadata": {},
   "source": [
    "## Import Semantics\n",
    "\n",
    "If you've made it through this far, congratulations! This was a long lab. If you're interested in the nitty-gritty details of Python's import mechanics, read through the [import system in the official language reference](https://docs.python.org/3/reference/import.html). It's a long read, but if you like understanding exactly how Python imports modules and packages, it will have all of the information you desire."
   ]
  },
  {
   "cell_type": "markdown",
   "metadata": {},
   "source": [
    "> With <3 by @sredmond"
   ]
  }
 ],
 "metadata": {
  "kernelspec": {
   "display_name": "Python 3",
   "language": "python",
   "name": "python3"
  },
  "language_info": {
   "codemirror_mode": {
    "name": "ipython",
    "version": 3
   },
   "file_extension": ".py",
   "mimetype": "text/x-python",
   "name": "python",
   "nbconvert_exporter": "python",
   "pygments_lexer": "ipython3",
   "version": "3.7.2"
  }
 },
 "nbformat": 4,
 "nbformat_minor": 2
}
