{
 "cells": [
  {
   "cell_type": "markdown",
   "metadata": {},
   "source": [
    "# Lab 4: Functional Programming\n",
    "Look at you go! Congratulations on making it to the second part of the lab!\n",
    "\n",
    "These assignments are *absolutely not required*! Even if you're here, you may find it more valuable to skim the problems here and attempt the problems that are most interesting to you - and that's perfectly fine. Don't feel any need to complete them in sequential order at this point.\n",
    "\n",
    "(Though we'd recommend the decorators problem, as a fun challenge!)"
   ]
  },
  {
   "cell_type": "markdown",
   "metadata": {},
   "source": [
    "### Linear Algebra (Challenge)\n",
    "\n",
    "These challenge problems test your ability to write compact Python functions using the tools of functional programming and some good old-fashioned cleverness. As always, these challenge problems are optional, and are much harder than the rest of the lab. These challenge problems also focus heavily on linear algebra, so if you are less familiar with linear algebra concepts, we recommend that you skip over this portion.\n",
    "\n",
    "Also, Python has incredible library support for working with these mathematical concepts through a package named `numpy`, so we will almost never write linear algebra code from scratch."
   ]
  },
  {
   "cell_type": "markdown",
   "metadata": {},
   "source": [
    "#### Dot Product\n",
    "Write a one-liner in Python that takes the dot product of two lists `u` and `v`. You can assume that the lists are the same size, and are standard Python lists (not anything special, like `numpy.ndarray`s). For example, `dot_product([1, 3, 5], [2, 4, 6])` should return `44` (since `1 * 2 + 3 * 4 + 5 * 6 = 44`)."
   ]
  },
  {
   "cell_type": "code",
   "execution_count": null,
   "metadata": {},
   "outputs": [],
   "source": [
    "def dot_product(u, v):\n",
    "    \"\"\"Return the dot product of two equal-length lists of numbers.\"\"\"\n",
    "    pass"
   ]
  },
  {
   "cell_type": "markdown",
   "metadata": {},
   "source": [
    "#### Matrix Transposition\n",
    "Write a one-liner in Python to transpose a matrix. Assume that the input matrix is a tuple-of-tuples that represents a valid matrix, not necessarily square. Again, do not use `numpy` or any other libraries - just raw data structure manipulation and our functional tools.\n",
    "\n",
    "Not only can you do this in one line - you can even do it in 14 characters!\n",
    "\n",
    "For example,\n",
    "\n",
    "```Python\n",
    "matrix = (\n",
    "    (1, 2, 3, 4),\n",
    "    (5, 6, 7, 8),\n",
    "    (9,10,11,12)\n",
    ")\n",
    "\n",
    "transpose(matrix)\n",
    "# returns \n",
    "# (\n",
    "#     (1, 5, 9),\n",
    "#     (2, 6, 10),\n",
    "#     (3, 7, 11),\n",
    "#     (4, 8, 12)\n",
    "# )\n",
    "```\n"
   ]
  },
  {
   "cell_type": "code",
   "execution_count": null,
   "metadata": {},
   "outputs": [],
   "source": [
    "def transpose(m):\n",
    "    \"\"\"Return the transpose of a matrix represented as a rectangular tuple-of-tuples.\"\"\"\n",
    "    pass"
   ]
  },
  {
   "cell_type": "markdown",
   "metadata": {},
   "source": [
    "#### Matrix Multiplication\n",
    "Write another one-liner in Python to take the product of two matrices `m1` and `m2`. You can use the `dot_product` and `transpose` functions you already wrote."
   ]
  },
  {
   "cell_type": "code",
   "execution_count": null,
   "metadata": {},
   "outputs": [],
   "source": [
    "def matmul(m1, m2):\n",
    "    \"\"\"Return the matrix multiplication of two matrices as rectangular 2D tuples.\"\"\"\n",
    "    pass"
   ]
  },
  {
   "cell_type": "markdown",
   "metadata": {},
   "source": [
    "#### Lazy Generation\n",
    "Rewrite your `transpose` and `matmul` functions above so that they are lazily evaluated. That is, rows (or columns) of the output matrix shouldn't be computed when the function is called."
   ]
  },
  {
   "cell_type": "markdown",
   "metadata": {},
   "source": [
    "## Building Decorators\n",
    "\n",
    "Recall that a decorator is a special type of function that accepts a function as an argument and returns a new function which (usually) wraps some of the behavior of the supplied function.\n",
    "\n",
    "Furthermore, recall that the `@decorator` syntax is syntactic sugar.\n",
    "\n",
    "```Python\n",
    "@decorator\n",
    "def fn():\n",
    "    pass\n",
    "```\n",
    "\n",
    "is equivalent to\n",
    "\n",
    "```Python\n",
    "def fn():\n",
    "    pass\n",
    "fn = decorator(fn)\n",
    "```\n"
   ]
  },
  {
   "cell_type": "markdown",
   "metadata": {},
   "source": [
    "### Review\n",
    "\n",
    "In lecture, we implemented the `debug` decorator.\n",
    "\n",
    "```Python\n",
    "def debug(function):\n",
    "    def wrapper(*args, **kwargs):\n",
    "        print(\"Arguments:\", args, kwargs)\n",
    "        return function(*args, **kwargs)\n",
    "    return wrapper\n",
    "```\n",
    "\n",
    "Take a moment, with a partner, and make sure you understand what is happening in the above lines. Why are the arguments to wrapper on the second line `*args` and `**kwargs` instead of something else? What would happen if we didn't `return wrapper` at the end of the function body?"
   ]
  },
  {
   "cell_type": "markdown",
   "metadata": {},
   "source": [
    "### Automatic Caching\n",
    "Write a decorator `cache` that will automatically cache any calls to the decorated function. You can assume that all arguments passed to the decorated function will always be hashable types.\n",
    "\n",
    "```Python\n",
    "def cache(function):\n",
    "    pass  # Your implementation here\n",
    "```\n",
    "\n",
    "In pseudocode, to accomplish this you will\n",
    "```\n",
    "take in some function f\n",
    "build a new function g: when called with some arguments...\n",
    "    if we have seen these arguments before:\n",
    "        return a saved result for these arguments\n",
    "    otherwise:\n",
    "        compute and return result of calling f with these arguments and save the result in some data structure\n",
    "return g\n",
    "```\n",
    "\n",
    "For example, you should be able to use this decorator as follows:\n",
    "\n",
    "```Python\n",
    "@cache\n",
    "def fib(n):\n",
    "    return fib(n-1) + fib(n-2) if n > 2 else 1\n",
    "\n",
    "fib(10)  # 55 (takes a moment to execute)\n",
    "fib(10)  # 55 (returns immediately)\n",
    "fib(100) # doesn't take forever\n",
    "fib(400) # doesn't raise RuntimeError\n",
    "```\n",
    "\n",
    "Hint: You can set arbitrary attributes on a function (e.g. `fn._cache`). When you do so, the attribute-value pair also gets inserted into `fn.__dict__`. Take a look for yourself. Are the extra attributes and `.__dict__` always in sync?"
   ]
  },
  {
   "cell_type": "markdown",
   "metadata": {},
   "source": [
    "#### Cache Options (Challenge)\n",
    "\n",
    "Add `maxsize` and `eviction_policy` keyword arguments, with reasonable defaults (perhaps `maxsize=None` as a sentinel), to your `cache` decorator. `eviction_policy` should be one of `'LRU'`, `'MRU'`, or `'random'`. It can be tricky to figure out how to construct a decorator with arguments.\n",
    "\n",
    "Also, add function attributes called `.cache_info` and `.cache_clear` which can be called to get aggregate statistics about the cache  and clear the cache, respectively.\n",
    "\n",
    "#### Note\n",
    "This caching decorator (with arguments!) is actually implemented as part of the language in `functools.lru_cache`"
   ]
  },
  {
   "cell_type": "markdown",
   "metadata": {},
   "source": [
    "### Better Debugging Decorator\n",
    "The `debug` decorator we wrote in class isn't very good. It doesn't tell us which function is being called, and it just dumps a tuple of positional arguments and a dictionary of keyword arguments - it doesn't even know what the names of the positional arguments are! If the default arguments aren't overridden, it won't show us their value either.\n",
    "\n",
    "Use function attributes to improve our `debug` decorator into a `print_args` decorator that is \"as good as you can make it.\"\n",
    "\n",
    "```Python\n",
    "def print_args(function):\n",
    "    def wrapper(*args, **kwargs):\n",
    "        # (1) You could do something here\n",
    "        retval = function(*args, **kwargs)\n",
    "        # (2) You could also do something here\n",
    "        return retval\n",
    "    return wrapper\n",
    "```\n",
    "\n",
    "*Hint: Consider using the attributes `fn.__name__` and `fn.__code__`. You'll have to investigate these attributes, but I will say that the `fn.__code__` code object contains a number of useful attributes - for instance, `fn.__code__.co_varnames`. Check it out! More information on function attributes is available in the latter half of Lab 3.*\n",
    "\n",
    "#### Note\n",
    "There are a lot of subtleties to this function, since functions can be called in a number of different ways. How does your `print_args` handle keyword arguments or even keyword-only arguments? Variadic positional arguments? Variadic keyword arguments? For more customization, look at `fn.__defaults__`, `fn.__kwdefaults__`, as well as other attributes of `fn.__code__`."
   ]
  },
  {
   "cell_type": "markdown",
   "metadata": {},
   "source": [
    "### Dynamic Type Checker (challenge)\n",
    "\n",
    "Functions in Python can be optionally annotated by semantically-useless but structurally-valuable type annotations. For example:\n",
    "\n",
    "```Python\n",
    "def foo(a: int, b: str) -> bool:\n",
    "    return b[a] == 'X'\n",
    "\n",
    "foo.__annotations__  # => {'a': int, 'b': str, 'return': bool}\n",
    "```\n",
    "\n",
    "Write a runtime type checker, implemented as a decorator, that enforces that the types of arguments and the return value are valid.\n",
    "\n",
    "```Python\n",
    "def enforce_types(function):\n",
    "    pass  # Your implementation here\n",
    "```\n",
    "\n",
    "For example:\n",
    "\n",
    "```Python\n",
    "@enforce_types\n",
    "def foo(a: int, b: str) -> bool:\n",
    "    if a == -1:\n",
    "        return 'Gotcha!'\n",
    "    return b[a] == 'X'\n",
    "\n",
    "foo(3, 'abcXde')  # => True\n",
    "foo(2, 'python')  # => False\n",
    "foo(1, 4)  # prints \"Invalid argument type for b: expected str, received int\n",
    "foo(-1, '')  # prints \"Invalid return type: expected bool, received str\n",
    "```\n",
    "\n",
    "There are lots of nuances to this function. What happens if some annotations are missing? How are keyword arguments and variadic arguments handled? What happens if the expected type of a parameter is not a primitive type? Can you annotate a function to describe that a parameter should be a list of strings? A tuple of (str, bool) pairs? A dictionary mapping strings to lists of integers? Read more about [advanced type hints](https://docs.python.org/3/library/typing.html) from the documentation.\n",
    "\n",
    "As you make progress, show your decorator to a member of the course staff. "
   ]
  },
  {
   "cell_type": "markdown",
   "metadata": {},
   "source": [
    "#### Bonus: Optional Severity Argument\n",
    "*Warning! This extension is very hard*\n",
    "\n",
    "Extend the `enforce_types` decorator to accept a keyword argument `severity` which modifies the extent of the enforcement. If `severity == 0`, disable type checking. If `severity == 1` (which is the default), just print a message if there are any type violations. If `severity == 2`, raise a TypeError if there are any type violations.\n",
    "\n",
    "For example:\n",
    "\n",
    "```Python\n",
    "@enforce_types_challenge(severity=2)\n",
    "def bar(a: list, b: str) -> int:\n",
    "    return 0\n",
    "\n",
    "@enforce_types_challenge()  # Why are there parentheses here?\n",
    "def baz(a: bool, b: str) -> str:\n",
    "    return ''\n",
    "```"
   ]
  },
  {
   "cell_type": "markdown",
   "metadata": {},
   "source": [
    "## Credit\n",
    "Credit goes to a lot of websites, whose names I've unfortunately forgotten along the way. Credit to everyone!"
   ]
  },
  {
   "cell_type": "markdown",
   "metadata": {},
   "source": [
    "> With <3 by @sredmond"
   ]
  }
 ],
 "metadata": {
  "kernelspec": {
   "display_name": "Python 3",
   "language": "python",
   "name": "python3"
  },
  "language_info": {
   "codemirror_mode": {
    "name": "ipython",
    "version": 3
   },
   "file_extension": ".py",
   "mimetype": "text/x-python",
   "name": "python",
   "nbconvert_exporter": "python",
   "pygments_lexer": "ipython3",
   "version": "3.7.4"
  }
 },
 "nbformat": 4,
 "nbformat_minor": 2
}
