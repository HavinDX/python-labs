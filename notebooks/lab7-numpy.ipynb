{
 "cells": [
  {
   "cell_type": "markdown",
   "metadata": {},
   "source": [
    "# Lab 3: Welcome to Python + Data Structures"
   ]
  },
  {
   "cell_type": "markdown",
   "metadata": {},
   "source": [
    "## Warming Up\n",
    "\n",
    "### Creating ndarrays\n",
    "\n",
    "Let's start by going over several of the functions used in Numpy to create ndarrays. Run the following code cells to generate ndarrays with specific properties. Do the functions behave as you would expect based on their name?"
   ]
  },
  {
   "cell_type": "code",
   "execution_count": 28,
   "metadata": {},
   "outputs": [
    {
     "name": "stdout",
     "output_type": "stream",
     "text": [
      "[[1 2]\n",
      " [3 4]\n",
      " [5 6]]\n",
      "[[0.59423946 0.11369561]\n",
      " [0.06212353 0.20643428]\n",
      " [0.76514512 0.37909908]]\n",
      "[ 2.          2.57142857  3.14285714  3.71428571  4.28571429  4.85714286\n",
      "  5.42857143  6.          6.57142857  7.14285714  7.71428571  8.28571429\n",
      "  8.85714286  9.42857143 10.        ]\n",
      "[[ True  True  True  True  True]\n",
      " [ True  True  True  True  True]]\n"
     ]
    }
   ],
   "source": [
    "import numpy as np\n",
    "\n",
    "A = np.array([[1, 2], [3, 4], [5, 6]])\n",
    "print(A)\n",
    "\n",
    "B = np.random.random((3, 2))\n",
    "print(B)\n",
    "\n",
    "C = np.linspace(2, 10, 15)                 # Arguments: linspace(start, end, num_elements)\n",
    "print(C)\n",
    "\n",
    "D = np.full((2, 5), True)\n",
    "print(D)"
   ]
  },
  {
   "cell_type": "markdown",
   "metadata": {},
   "source": [
    "### `array` vs. `asarray`\n",
    "These two functions appear to construct ndarrays in the same way, but there's one important difference between them. Run the following code to understand the difference. What do you notice?"
   ]
  },
  {
   "cell_type": "code",
   "execution_count": 17,
   "metadata": {},
   "outputs": [
    {
     "name": "stdout",
     "output_type": "stream",
     "text": [
      "[[1. 1.]\n",
      " [1. 1.]\n",
      " [1. 1.]]\n",
      "[[-1.  1.]\n",
      " [ 1.  1.]\n",
      " [ 1.  1.]]\n"
     ]
    }
   ],
   "source": [
    "arr = np.ones((3, 2))\n",
    "A = np.array(arr)\n",
    "A[0, 0] = -1\n",
    "print(arr)\n",
    "\n",
    "arr = np.ones((3, 2))\n",
    "A = np.asarray(arr)\n",
    "A[0, 0] = -1\n",
    "print(arr)\n"
   ]
  },
  {
   "cell_type": "markdown",
   "metadata": {},
   "source": [
    "## Indexing Exercises\n",
    "Try implementing the following functions! Using `numpy` utilities, you should be able to implement each as a one-liner. None of these problems require iterative solutions beyond perhaps the occasional list comprehension. \n",
    "\n",
    "In the following cell, implement the described functions. Run the cell following it in order to test your solutions."
   ]
  },
  {
   "cell_type": "code",
   "execution_count": 125,
   "metadata": {},
   "outputs": [],
   "source": [
    "A = np.arange(25).reshape(5, 5)     # 5 x 5 array, numbers sequential from 1 to 25.\n",
    "\n",
    "A_nan = np.arange(25, dtype=\"f\").reshape(5, 5)\n",
    "A_nan[2, 2] = float('nan')          # Create a version of A with nan values.\n",
    "\n",
    "def flip_rows_1_and_4(A):\n",
    "    '''\n",
    "    Write a function to flip rows 1 and 4 of the matrix A.\n",
    "    '''\n",
    "    return A[[0, 4, 2, 3, 1], :]\n",
    "\n",
    "def flip_rows_and_cols(A):\n",
    "    '''\n",
    "    Write a function to invert the rows of A and the columns of A.\n",
    "    Note - this is not the same as taking the transpose. Instead, row 1 becomes row 5, row 2 becomes\n",
    "    row 4, etc. and the same procedure is applied to the columns.\n",
    "    '''\n",
    "    return A[::-1, ::-1]\n",
    "    \n",
    "def remove_row_2_col_3(A):\n",
    "    '''\n",
    "    Write a function to remove row 2 and column 3 from the matrix A.\n",
    "    '''\n",
    "    return A[[0, 1, 3, 4],:][:,[0, 1, 2, 4]]\n",
    "\n",
    "def stack_matrix_along_d2(A, n):\n",
    "    '''\n",
    "    Stack the 2-D matrix A n times along the second dimension.\n",
    "    (So, assuming A is (5, 5), your output should be a (5, 5, n) matrix).\n",
    "    \n",
    "    Hint: check out np.stack!\n",
    "    '''\n",
    "    return np.stack([A for _ in range(n)], axis=2)\n",
    "\n",
    "def remove_rows_with_nan(A):\n",
    "    '''\n",
    "    Return a version of A with all rows containing nan values removed.\n",
    "    (You can make this a couple of lines readability - though it's possible to do it in one!)\n",
    "    \n",
    "    Hint: np.isnan can check if an item is nan. Consider combining this with Python's any() operator to\n",
    "    obtain the result!\n",
    "    '''\n",
    "    rows_with_nan = [row for row in range(A.shape[0]) if any(np.isnan(A[row,:]))]\n",
    "    rows_without_nan = [x for x in range(A.shape[0]) if x not in rows_with_nan]\n",
    "    return A[rows_without_nan, :]\n"
   ]
  },
  {
   "cell_type": "code",
   "execution_count": 123,
   "metadata": {
    "scrolled": false
   },
   "outputs": [
    {
     "name": "stdout",
     "output_type": "stream",
     "text": [
      "[[ 0  1  2  3  4]\n",
      " [ 5  6  7  8  9]\n",
      " [10 11 12 13 14]\n",
      " [15 16 17 18 19]\n",
      " [20 21 22 23 24]]\n",
      "[[ 0  1  2  3  4]\n",
      " [20 21 22 23 24]\n",
      " [10 11 12 13 14]\n",
      " [15 16 17 18 19]\n",
      " [ 5  6  7  8  9]]\n",
      "[[24 23 22 21 20]\n",
      " [19 18 17 16 15]\n",
      " [14 13 12 11 10]\n",
      " [ 9  8  7  6  5]\n",
      " [ 4  3  2  1  0]]\n",
      "[[ 0  1  2  4]\n",
      " [ 5  6  7  9]\n",
      " [15 16 17 19]\n",
      " [20 21 22 24]]\n",
      "[[[ 0  0  0]\n",
      "  [ 1  1  1]\n",
      "  [ 2  2  2]\n",
      "  [ 3  3  3]\n",
      "  [ 4  4  4]]\n",
      "\n",
      " [[ 5  5  5]\n",
      "  [ 6  6  6]\n",
      "  [ 7  7  7]\n",
      "  [ 8  8  8]\n",
      "  [ 9  9  9]]\n",
      "\n",
      " [[10 10 10]\n",
      "  [11 11 11]\n",
      "  [12 12 12]\n",
      "  [13 13 13]\n",
      "  [14 14 14]]\n",
      "\n",
      " [[15 15 15]\n",
      "  [16 16 16]\n",
      "  [17 17 17]\n",
      "  [18 18 18]\n",
      "  [19 19 19]]\n",
      "\n",
      " [[20 20 20]\n",
      "  [21 21 21]\n",
      "  [22 22 22]\n",
      "  [23 23 23]\n",
      "  [24 24 24]]]\n",
      "[[ 0.  1.  2.  3.  4.]\n",
      " [ 5.  6.  7.  8.  9.]\n",
      " [15. 16. 17. 18. 19.]\n",
      " [20. 21. 22. 23. 24.]]\n"
     ]
    }
   ],
   "source": [
    "# Run this cell to confirm that your implementations align with what you expect!\n",
    "print(A)\n",
    "print(flip_rows_1_and_4(A))\n",
    "print(flip_rows_and_cols(A))\n",
    "print(remove_row_2_col_3(A))\n",
    "print(stack_matrix_along_d2(A, 3))\n",
    "print(remove_rows_with_nan(A_nan))\n"
   ]
  },
  {
   "cell_type": "markdown",
   "metadata": {},
   "source": [
    "# TODO: <font color='red'> SVD movie recommender based on class survey! (Send out survey first week of quarter).</font>"
   ]
  },
  {
   "cell_type": "markdown",
   "metadata": {},
   "source": [
    "# TODO: <font color='red'> Drawing picture of a Panda using the Pandas library. </font>"
   ]
  },
  {
   "cell_type": "markdown",
   "metadata": {},
   "source": [
    "> With 🦄 by @coopermj and @parthsarin"
   ]
  },
  {
   "cell_type": "code",
   "execution_count": null,
   "metadata": {},
   "outputs": [],
   "source": []
  }
 ],
 "metadata": {
  "kernelspec": {
   "display_name": "Python 3",
   "language": "python",
   "name": "python3"
  },
  "language_info": {
   "codemirror_mode": {
    "name": "ipython",
    "version": 3
   },
   "file_extension": ".py",
   "mimetype": "text/x-python",
   "name": "python",
   "nbconvert_exporter": "python",
   "pygments_lexer": "ipython3",
   "version": "3.7.4"
  }
 },
 "nbformat": 4,
 "nbformat_minor": 2
}
