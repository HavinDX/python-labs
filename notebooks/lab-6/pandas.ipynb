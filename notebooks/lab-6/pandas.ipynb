{
 "cells": [
  {
   "cell_type": "markdown",
   "metadata": {},
   "source": [
    "## Converting Images to ASCII Art\n",
    "\n",
    "In this exercise, we'll first load a secret image. Then, we'll write a script that converts images to ASCII art.\n",
    "\n",
    "> \"What's ASCII art, Parth?\" you ask.\n",
    ">\n",
    "> Have I got something cool to show you... [http://ascii-art.de/](http://ascii-art.de/)\n",
    ">\n",
    "> \"😱,\" you reply.\n",
    "\n",
    "As we saw in lecture, `pandas` is a powerful library for interfacing with data. You can read the documentation [here](). Let's use `pandas` and `Pillow` to reconstruct a secret image.\n",
    "\n",
    "The data for this image is in `secret.csv`. Load that file into a `pandas` DataFrame."
   ]
  },
  {
   "cell_type": "code",
   "execution_count": 8,
   "metadata": {},
   "outputs": [
    {
     "ename": "NameError",
     "evalue": "name 'pd' is not defined",
     "output_type": "error",
     "traceback": [
      "\u001b[0;31m---------------------------------------------------------------------------\u001b[0m",
      "\u001b[0;31mNameError\u001b[0m                                 Traceback (most recent call last)",
      "\u001b[0;32m<ipython-input-8-ceb9d300d323>\u001b[0m in \u001b[0;36m<module>\u001b[0;34m\u001b[0m\n\u001b[1;32m      4\u001b[0m \u001b[0;34m\u001b[0m\u001b[0m\n\u001b[1;32m      5\u001b[0m \u001b[0;31m# Load the CSV into a pandas DataFrame\u001b[0m\u001b[0;34m\u001b[0m\u001b[0;34m\u001b[0m\u001b[0;34m\u001b[0m\u001b[0m\n\u001b[0;32m----> 6\u001b[0;31m \u001b[0md\u001b[0m \u001b[0;34m=\u001b[0m \u001b[0mpd\u001b[0m\u001b[0;34m.\u001b[0m\u001b[0mload_csv\u001b[0m\u001b[0;34m(\u001b[0m\u001b[0;34m'~/Desktop/secret.csv'\u001b[0m\u001b[0;34m)\u001b[0m\u001b[0;34m\u001b[0m\u001b[0;34m\u001b[0m\u001b[0m\n\u001b[0m",
      "\u001b[0;31mNameError\u001b[0m: name 'pd' is not defined"
     ]
    }
   ],
   "source": [
    "import pandas as pd\n",
    "import numpy as np\n",
    "from PIL import Image\n",
    "\n",
    "# Load the CSV into a pandas DataFrame\n",
    "d = pd.load_csv('~/Desktop/secret.csv')"
   ]
  },
  {
   "cell_type": "markdown",
   "metadata": {},
   "source": [
    "The secret image is a black and white image that measures `35 x 80` pixels. Convert the DataFrame to a `numpy` array using the `.asarray` function. Then, convert it to a `Pillow` image. Make sure that the data type for the array is `np.uint8` so that `Pillow` can process the array."
   ]
  },
  {
   "cell_type": "code",
   "execution_count": 64,
   "metadata": {},
   "outputs": [],
   "source": [
    "# Convert the DataFrame into a numpy array\n",
    "a = np.asarray(d).astype(np.uint8)\n",
    "\n",
    "# Convert the numpy array into a Pillow image\n",
    "im = Image.fromarray(a)"
   ]
  },
  {
   "cell_type": "markdown",
   "metadata": {},
   "source": [
    "Take a look at the image! Cuuute..."
   ]
  },
  {
   "cell_type": "code",
   "execution_count": 65,
   "metadata": {},
   "outputs": [],
   "source": [
    "im.show()"
   ]
  },
  {
   "cell_type": "markdown",
   "metadata": {},
   "source": [
    "Now, let's convert the image to ASCII art! A neat way to do this is to convert each pixel of the image to a character based on its value (since our image is black and white, each pixel only has one value, between 0 and 255) where the darker pixels get converted to darker characters. \n",
    "\n",
    "Let's split `range(256)` into four parts, and assign each part to a character of varying darkness. Use the following rules to convert each pixel to an ASCII character:\n",
    "```\n",
    "px  < 64:          '▓'\n",
    "64  <= px < 128:   '▒'\n",
    "128 <= px < 192:   '░'\n",
    "192 <= px:         ' '\n",
    "```\n",
    "(that last character is a space)\n",
    "\n",
    "The `bisect` library might be helpful for this. Do this for every pixel in `a`. Then, you should be able to join the characters within each of the rows with `''` and join the rows with `'\\n'` to get the final output. That'll be something like:\n",
    "\n",
    "```python\n",
    "'\\n'.join(''.join(row) for row in ascii_array)\n",
    "```\n",
    "\n",
    "We've stored the characters and breakpoints in two lists:"
   ]
  },
  {
   "cell_type": "code",
   "execution_count": 66,
   "metadata": {},
   "outputs": [
    {
     "name": "stdout",
     "output_type": "stream",
     "text": [
      "                      ░░▒░░                           ░▒▒░░                     \n",
      "                    ▒▓▓▓▓▓▓▒                         ▒▓▓▓▓▓▓░                   \n",
      "                  ░▓▓▓▓▓▓▓▓▓▒                       ▓▓▓▓▓▓▓▓▓▓                  \n",
      "                 ░▓▓▓▓▓▓▓▓▓▓▓░   ░▒▓▓▓▓▓▓▓▓▓▓▒▒░   ▒▓▓▓▓▓▓▓▓▓▓▓                 \n",
      "                 ▓▓▓▓▓▓▓▓▓▓▓▓▒░▓▓▒░░         ░░▒▓▒░▓▓▓▓▓▓▓▓▓▓▓▓▒                \n",
      "                ▒▓▓▓▓▓▓▓▓▓▓▓▓▓▒░                 ░▒▓▓▓▓▓▓▓▓▓▓▓▓▓░               \n",
      "                ▓▓▓▓▓▓▓▓▓▓▓▓▒                      ░▒▓▓▓▓▓▓▓▓▓▓▓▒               \n",
      "                ▓▓▓▓▓▓▓▓▓▓▓░                         ░▓▓▓▓▓▓▓▓▓▓▒               \n",
      "                ▓▓▓▓▓▓▓▓▓▓                            ░▓▓▓▓▓▓▓▓▓▓               \n",
      "                ▓▓▓▓▓▓▓▓▓                              ░▓▓▓▓▓▓▓▓▓               \n",
      "                ▓▓▓▓▓▓▓▓                                ░▓▓▓▓▓▓▓▒               \n",
      "                ▒▓▓▓▓▓▓░                                 ▒▓▓▓▓▓▓░               \n",
      "                ░▓▓▓▓▓▒                                   ▓▓▓▓▓▓                \n",
      "                 ▒▓▓▓▓           ░            ░░          ░▓▓▓▓░                \n",
      "                  ░▒▓▒        ▒▓▓▓▓▒         ▓▓▓▓▓░        ▓▓▒                  \n",
      "                    ▓        ▓▓▓▓▓▓▓        ░▓▓▓▓▓▓▒       ░▒                   \n",
      "                   ░▒       ▓▓▓▓▓▒▓▓        ░▓▓▓▒▓▓▓▒       ▓                   \n",
      "                   ▒░      ▒▓▓▓▓▓▓▓▒         ▓▓▓▓▓▓▓▓░      ▒░                  \n",
      "                   ▓       ▓▓▓▓▓▓▓▓  ░▒▒▒▒▒░ ░▓▓▓▓▓▓▓▒      ░▓░  ░              \n",
      "                  ░▓       ▓▓▓▓▓▓▓░ ▓▓▓▓▓▓▓▓▒ ▒▓▓▓▓▓▓▓     ▒▓▓▓▓▓▓▓░            \n",
      "                  ░▒       ▓▓▓▓▓▓▓  ▓▓▓▓▓▓▓▓▒ ░▓▓▓▓▓▓▓   ▒▒▓▓▓▓▓▓▓▓▓▓▒          \n",
      "                  ▒░       ▓▓▓▓▓▓▒  ░▓▓▓▓▓▓▓░  ▓▓▓▓▓▓▒  ▒▓▓▓▓░▒▓▒░▓▓▓▓▓         \n",
      "             ▒▒▒▒▒▓░       ▓▓▓▓▓▓▒   ░▓▓▓▓▒    ▓▓▓▓▓▓▒  ▓▓▓▓▒ ░▓░ ▓▓▓▓▓▒        \n",
      "           ▒▓▓▓▓▓▓▓▓▒░     ▒▓▓▓▓▓░      ▒      ▒▓▓▓▓▓░ ░▓▓░▒▓▒▓▓▓▒▓▒░▓▓▓        \n",
      "          ▒▓▓▓▓▓▓▓▓▓▓▓▒     ▓▓▓▓▒       ▒       ▓▓▓▓▓  ░▓▒ ▒▓▓▓▓▓▓▓▒ ▒▓▓        \n",
      "         ░▓▓▓▓▓▓▓▓▓▓▓▓▓▒    ░▒▒░    ░░░▒▓▒░░░    ░▒▒   ░▓▓▒▓▓▒   ░▒▓▒▓▓▓        \n",
      "         ▒▓▓▓▓▓▓▓▓▓▓▓▓▓▓░            ░▒░ ▒▒░            ▓▓▓▓░      ▒▓▓▓▓        \n",
      "         ▓▓▓▓▓▓▓▓▓▓▓▓▓▓▓▒                               ▓▓▓▓        ▓▓▓▓        \n",
      "        ░▓▓▓▓▓▓▓▓▓▓▓▓▓▓▓▓░                              ▓▓▓▓░      ▒▓▓▓▓        \n",
      " ▓▓▓▓▓▓▓▓▓▓▓▓▓▓▓▓▓▓▓▓▓▓▓▓▓▓▓▓▓▓▓▓▓▓▓▓▓▓▓▓▓▓▓▓▓▓▓▓▓▓▓▓▓▓▓▓▓▓▓▓▓▓▓▓▓▓▓▓▓▓▓▓▓▓▓▓▓▓▒\n",
      "         ▓▓▓▓▓▓▓▓▓▓▓▓▓▓▓▓                                                       \n",
      "         ▒▓▓▓▓▓▓▓▓▓▓▓▓▓▓▒                                                       \n",
      "          ▒▓▓▓▓▓▓▓▓▓▓▓▒░                                                        \n",
      "             ▒▓▓▓▓▓▓▓░                                                          \n",
      "               ░  ░░                                                            \n"
     ]
    }
   ],
   "source": [
    "import bisect\n",
    "characters = '▓▒░ '\n",
    "breakpoints = [64, 128, 192]\n",
    "\n",
    "# Convert each pixel (each entry in a) to a character based on where it falls, relative to the breakpoints:\n",
    "im_ascii = '\\n'.join(''.join(map(lambda pt: characters[bisect.bisect(breakpoints, pt)], row)) for row in a)\n",
    "\n",
    "print(im_ascii)"
   ]
  },
  {
   "cell_type": "markdown",
   "metadata": {},
   "source": [
    "My heart... 😍\n",
    "\n",
    "There's one more detail that we can improve to get better results. Each pixel is *square*, but we're replacing it with characters like `'▓'`, which are taller than they are wide. To compensate for this, we can increase the width of the image, convert that to a `numpy` array, and *then* convert the array to ASCII.\n",
    "\n",
    "You can do this with\n",
    "```python\n",
    "im = im.resize((int(im.size[0]*1.5), im.size[1])) # scale width by 1.5\n",
    "stretched_arr = np.asarray(im)\n",
    "... # convert to ascii\n",
    "```"
   ]
  },
  {
   "cell_type": "code",
   "execution_count": null,
   "metadata": {},
   "outputs": [],
   "source": []
  }
 ],
 "metadata": {
  "kernelspec": {
   "display_name": "Python 3",
   "language": "python",
   "name": "python3"
  },
  "language_info": {
   "codemirror_mode": {
    "name": "ipython",
    "version": 3
   },
   "file_extension": ".py",
   "mimetype": "text/x-python",
   "name": "python",
   "nbconvert_exporter": "python",
   "pygments_lexer": "ipython3",
   "version": "3.8.0"
  }
 },
 "nbformat": 4,
 "nbformat_minor": 2
}
