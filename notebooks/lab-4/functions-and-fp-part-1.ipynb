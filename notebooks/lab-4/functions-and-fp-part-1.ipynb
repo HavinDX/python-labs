{
 "cells": [
  {
   "cell_type": "markdown",
   "metadata": {},
   "source": [
    "# Lab 4: Functions and Functional Programming (Part 1)"
   ]
  },
  {
   "cell_type": "markdown",
   "metadata": {},
   "source": [
    "## Overview\n",
    "Build familiarity with reading and writing Python functions with different types of formal parameters, explore some nuances of function execution semantics, and dive into the internals of functions. Then, explore functional programming's place in the Python landscape, and gain practice with powerful tools like `map`, `filter`, iterators, generators, and decorators.\n",
    "\n",
    "*Disclaimer: we know that this lab is particularly focused on Python semantics, which may not seem exciting at first. However, mastering the mechanics of Python functions gives you access to a whole lot of powerful tools that either don't exist or are uncommon or hard-to-use in other languages! The skills you learn through this lab will allow you to write (and debug) powerful Pythonic code quickly and easily!*\n",
    "\n",
    "**As with Lab 2, we don't expect you to finish all of the material here in one class period. If you do - great! But if not, you are encouraged to work through the extra material at your own pace - it explores interesting and intriguing aspects of Python functions.**"
   ]
  },
  {
   "cell_type": "markdown",
   "metadata": {},
   "source": [
    "## Functions\n",
    "Let's start by exploring Python functions more!"
   ]
  },
  {
   "cell_type": "markdown",
   "metadata": {},
   "source": [
    "## Exploring Arguments and Parameters\n",
    "\n",
    "With a partner, work through the following problems."
   ]
  },
  {
   "cell_type": "markdown",
   "metadata": {},
   "source": [
    "\n",
    "Consider the following function definition:\n",
    "\n",
    "```Python\n",
    "def print_two(a, b):\n",
    "    print(\"Arguments: {0} and {1}\".format(a, b))\n",
    "```\n",
    "\n",
    "For each of the following function calls, predict whether the call is valid or not. If it is valid, what will the output be? If it is invalid, what is the cause of the error?\n",
    "\n",
    "*Note: make your predictions **before** running the code interactively. Then check yourself!*\n",
    "\n",
    "```Python\n",
    "# Valid or invalid?\n",
    "print_two()\n",
    "print_two(4, 1)\n",
    "print_two(41)\n",
    "print_two(a=4, 1)\n",
    "print_two(4, a=1)\n",
    "print_two(4, 1, 1)\n",
    "print_two(b=4, 1)\n",
    "print_two(a=4, b=1)\n",
    "print_two(b=1, a=4)\n",
    "print_two(1, a=1)\n",
    "print_two(4, 1, b=1)\n",
    "```"
   ]
  },
  {
   "cell_type": "code",
   "execution_count": null,
   "metadata": {},
   "outputs": [],
   "source": [
    "# Before running me, predict which of these calls will be invalid and which will be valid!\n",
    "# For valid calls, what is the output?\n",
    "# For invalid calls, why is it invalid?\n",
    "def print_two(a, b):\n",
    "    print(\"Arguments: {0} and {1}\".format(a, b))\n",
    "\n",
    "# Uncomment the ones you want to run!\n",
    "# print_two()\n",
    "# print_two(4, 1)\n",
    "# print_two(41)\n",
    "# print_two(a=4, 1)\n",
    "# print_two(4, a=1)\n",
    "# print_two(4, 1, 1)\n",
    "# print_two(b=4, 1)\n",
    "# print_two(a=4, b=1)\n",
    "# print_two(b=1, a=4)\n",
    "# print_two(1, a=1)\n",
    "# print_two(4, 1, b=1)"
   ]
  },
  {
   "cell_type": "markdown",
   "metadata": {},
   "source": [
    "Write at least two more instances of function calls, not listed above, and predict their output. Are they valid or invalid? Check your hypothesis.\n",
    "\n",
    "*These \"write-some-more\" problems are your chance to clarify your own understanding of function call semantics. You can skip them if you'd like, but using the interactive interpreter to test your own hypotheses is a crucial Python skill that lets you answer questions of the form \"But what happens if I...\"*"
   ]
  },
  {
   "cell_type": "code",
   "execution_count": null,
   "metadata": {},
   "outputs": [],
   "source": [
    "# Write two more function calls.\n",
    "# print_two(...)\n",
    "# print_two(...)"
   ]
  },
  {
   "cell_type": "markdown",
   "metadata": {},
   "source": [
    "### Default Arguments\n",
    "\n",
    "Consider the following function definition:\n",
    "\n",
    "```Python\n",
    "def keyword_args(a, b=1, c='X', d=None):\n",
    "    print(\"a:\", a)\n",
    "    print(\"b:\", b)\n",
    "    print(\"c:\", c)\n",
    "    print(\"d:\", d)\n",
    "```\n",
    "\n",
    "For each of the following function calls, predict whether the call is valid or not. If it is valid, what will the output be? If it is invalid, what is the cause of the error?\n",
    "\n",
    "```Python\n",
    "keyword_args(5)\n",
    "keyword_args(a=5)\n",
    "keyword_args(5, 8)\n",
    "keyword_args(5, 2, c=4)\n",
    "keyword_args(5, 0, 1)\n",
    "keyword_args(5, 2, d=8, c=4)\n",
    "keyword_args(5, 2, 0, 1, \"\")\n",
    "keyword_args(c=7, 1)\n",
    "keyword_args(c=7, a=1)\n",
    "keyword_args(5, 2, [], 5)\n",
    "keyword_args(1, 7, e=6)\n",
    "keyword_args(1, c=7)\n",
    "keyword_args(5, 2, b=4)\n",
    "```"
   ]
  },
  {
   "cell_type": "code",
   "execution_count": null,
   "metadata": {},
   "outputs": [],
   "source": [
    "# Before running me, predict which of these calls will be invalid and which will be valid!\n",
    "# For valid calls, what is the output?\n",
    "# For invalid calls, why is it invalid?\n",
    "def keyword_args(a, b=1, c='X', d=None):\n",
    "    print(\"a:\", a)\n",
    "    print(\"b:\", b)\n",
    "    print(\"c:\", c)\n",
    "    print(\"d:\", d)\n",
    "    \n",
    "# Uncomment the ones you want to run!\n",
    "# keyword_args(5)\n",
    "# keyword_args(a=5)\n",
    "# keyword_args(5, 8)\n",
    "# keyword_args(5, 2, c=4)\n",
    "# keyword_args(5, 0, 1)\n",
    "# keyword_args(5, 2, d=8, c=4)\n",
    "# keyword_args(5, 2, 0, 1, \"\")\n",
    "# keyword_args(c=7, 1)\n",
    "# keyword_args(c=7, a=1)\n",
    "# keyword_args(5, 2, [], 5)\n",
    "# keyword_args(1, 7, e=6)\n",
    "# keyword_args(1, c=7)\n",
    "# keyword_args(5, 2, b=4)"
   ]
  },
  {
   "cell_type": "markdown",
   "metadata": {},
   "source": [
    "Write at least two more instances of function calls, not listed above, and predict their output. Are they valid or invalid? Check your hypothesis."
   ]
  },
  {
   "cell_type": "code",
   "execution_count": null,
   "metadata": {},
   "outputs": [],
   "source": [
    "# Write two more function calls.\n",
    "# keyword_args(...)\n",
    "# keyword_args(...)"
   ]
  },
  {
   "cell_type": "markdown",
   "metadata": {},
   "source": [
    "### Exploring Variadic Arguments\n",
    "As before, consider the following function definition: \n",
    "\n",
    "```Python\n",
    "def variadic(*args, **kwargs):\n",
    "    print(\"Positional:\", args)\n",
    "    print(\"Keyword:\", kwargs)\n",
    "```\n",
    "\n",
    "For each of the following function calls, predict whether the call is valid or not. If it is valid, what will the output be? If it is invalid, what is the cause of the error?\n",
    "\n",
    "```Python\n",
    "variadic(2, 3, 5, 7)\n",
    "variadic(1, 1, n=1)\n",
    "variadic(n=1, 2, 3)\n",
    "variadic()\n",
    "variadic(cs=\"Computer Science\", pd=\"Product Design\")\n",
    "variadic(cs=\"Computer Science\", cs=\"CompSci\", cs=\"CS\")\n",
    "variadic(5, 8, k=1, swap=2)\n",
    "variadic(8, *[3, 4, 5], k=1, **{'a':5, 'b':'x'})\n",
    "variadic(*[8, 3], *[4, 5], k=1, **{'a':5, 'b':'x'})\n",
    "variadic(*[3, 4, 5], 8, *(4, 1), k=1, **{'a':5, 'b':'x'})\n",
    "variadic({'a':5, 'b':'x'}, *{'a':5, 'b':'x'}, **{'a':5, 'b':'x'})\n",
    "```"
   ]
  },
  {
   "cell_type": "code",
   "execution_count": null,
   "metadata": {},
   "outputs": [],
   "source": [
    "# Before running me, predict which of these calls will be invalid and which will be valid!\n",
    "# For valid calls, what is the output?\n",
    "# For invalid calls, why is it invalid?\n",
    "def variadic(*args, **kwargs):\n",
    "    print(\"Positional:\", args)\n",
    "    print(\"Keyword:\", kwargs)\n",
    "\n",
    "# Uncomment the ones you want to run!\n",
    "# variadic(2, 3, 5, 7)\n",
    "# variadic(1, 1, n=1)\n",
    "# variadic(n=1, 2, 3)\n",
    "# variadic()\n",
    "# variadic(cs=\"Computer Science\", pd=\"Product Design\")\n",
    "# variadic(cs=\"Computer Science\", cs=\"CompSci\", cs=\"CS\")\n",
    "# variadic(5, 8, k=1, swap=2)\n",
    "# variadic(8, *[3, 4, 5], k=1, **{'a':5, 'b':'x'})\n",
    "# variadic(*[8, 3], *[4, 5], k=1, **{'a':5, 'b':'x'})\n",
    "# variadic(*[3, 4, 5], 8, *(4, 1), k=1, **{'a':5, 'b':'x'})\n",
    "# variadic({'a':5, 'b':'x'}, *{'a':5, 'b':'x'}, **{'a':5, 'b':'x'})"
   ]
  },
  {
   "cell_type": "markdown",
   "metadata": {},
   "source": [
    "Write at least two more instances of function calls, not listed above, and predict their output. Are they valid or invalid? Check your hypothesis."
   ]
  },
  {
   "cell_type": "code",
   "execution_count": null,
   "metadata": {},
   "outputs": [],
   "source": [
    "# Write two more function calls.\n",
    "# variadic(...)\n",
    "# variadic(...)"
   ]
  },
  {
   "cell_type": "markdown",
   "metadata": {},
   "source": [
    "## Writing Functions\n",
    "Now, lets use our newfound argument knowledge to write some cool functions!"
   ]
  },
  {
   "cell_type": "markdown",
   "metadata": {},
   "source": [
    "### `speak_excitedly`\n",
    "Write a function `speak_excitedly` that accepts one required positional argument (a message) and two optional keyword arguments, the first of which is a positive integer referring to the number of exclamation marks to put at the end of the message (defaulting to `1`), and the second of which is a boolean flag indicating whether or not to capitalize the message (defaulting to `False`).\n",
    "\n",
    "What would the function signature and implementation look like for this function?\n",
    "\n",
    "<details>\n",
    "    <summary><b>Hints</b> (click to expand - but don't check the hints unless you're really stumped!):</summary>\n",
    "    <ul>\n",
    "        <li>Here's a function signature to consider!<br>\n",
    "            <code>def speak_excitedly(message, num_exclamations=1, capitalize=False):</code>\n",
    "    </ul>\n",
    "</details>"
   ]
  },
  {
   "cell_type": "code",
   "execution_count": null,
   "metadata": {},
   "outputs": [],
   "source": [
    "def speak_excitedly(???):\n",
    "    \"\"\"Print a message, with an optional number of exclamation points and optional capitalization.\"\"\"\n",
    "    pass"
   ]
  },
  {
   "cell_type": "markdown",
   "metadata": {},
   "source": [
    "How would you call this function to produce the following outputs?\n",
    "\n",
    "```Python\n",
    "\"I love Python!\"\n",
    "\"Keyword arguments are great!!!!\"\n",
    "\"I guess Java is okay...\"\n",
    "\"LET'S GO STANFORD!!\"\n",
    "```"
   ]
  },
  {
   "cell_type": "code",
   "execution_count": null,
   "metadata": {},
   "outputs": [],
   "source": [
    "speak_excitedly(???)  # => \"I love Python!\"\n",
    "speak_excitedly(???)  # => \"Keyword arguments are great!!!!\"\n",
    "speak_excitedly(???)  # => \"I guess Java is okay...\"\n",
    "speak_excitedly(???)  # => \"LET'S GO STANFORD!!\""
   ]
  },
  {
   "cell_type": "markdown",
   "metadata": {},
   "source": [
    "### Challenge: `make_table`\n",
    "\n",
    "Write a function to make a table out of an arbitrary number of keyword arguments. For example, \n",
    "\n",
    "```Python\n",
    "make_table(\n",
    "    first_name=\"Parth\",\n",
    "    last_name=\"Sarin\",\n",
    "    favourite_animal=\"unicorn\"\n",
    ")\n",
    "```\n",
    "\n",
    "should produce\n",
    "\n",
    "```\n",
    "===============================\n",
    "|  first_name       |   Parth |\n",
    "|  last_name        |   Sarin |\n",
    "|  favourite_animal | unicorn |\n",
    "===============================\n",
    "```\n",
    "\n",
    "Additionally, there should be two parameters, `key_justify` and `value_justify`, whose default values are `'left'` and `'right'` respectively. These keyword arguments will control the text alignment for keys and values in the table. Valid options for these parameters are `['left', 'right', 'center']`. There should be an extra space of padding on either side of the keys and values. As another example,\n",
    "\n",
    "```Python\n",
    "make_table(\n",
    "    key_justify=\"right\",\n",
    "    value_justify=\"center\",\n",
    "    song=\"Style\",\n",
    "    artist_fullname=\"Taylor $wift\",\n",
    "    album=\"1989\"\n",
    ")\n",
    "```\n",
    "\n",
    "should produce\n",
    "\n",
    "```\n",
    "==================================\n",
    "|            song |     Style    |\n",
    "| artist_fullname | Taylor $wift |\n",
    "|           album |     1989     |\n",
    "==================================\n",
    "```\n",
    "\n",
    "What would the function signature and implementation look like for this function?\n",
    "\n",
    "```\n",
    "def make_table(???):\n",
    "    pass\n",
    "```\n",
    "<details>\n",
    "    <summary><b>Hints</b> (click to expand):</summary>\n",
    "    <ul>\n",
    "        <li>You may find Python's string <code>.format()</code> <a href=\"https://pyformat.info/#string_pad_align\">alignment specifiers</a> useful.\n",
    "    </ul>\n",
    "</details>\n"
   ]
  },
  {
   "cell_type": "code",
   "execution_count": null,
   "metadata": {},
   "outputs": [],
   "source": [
    "def make_table(???):\n",
    "    pass"
   ]
  },
  {
   "cell_type": "markdown",
   "metadata": {},
   "source": [
    "## Functional Programming\n",
    "Now that we've explored some of the parameter specifications of functions, let's explore the basics of Functional Programming in Python!"
   ]
  },
  {
   "cell_type": "markdown",
   "metadata": {},
   "source": [
    "### Comprehensions\n",
    "Comprehensions are amazing! They're a really crucial piece of Python's functional programming infrastructure.\n",
    "\n",
    "#### Read\n",
    "\n",
    "Predict the output of each of the following list comprehensions. After you have written down your hypothesis, run the code cell to see if you were correct. If you were incorrect, discuss with a partner why Python returns what it does.\n",
    "\n",
    "```Python\n",
    "[x for x in [1, 2, 3, 4]]\n",
    "[n - 2 for n in range(10)]\n",
    "[k % 10 for k in range(41) if k % 3 == 0]\n",
    "[s.lower() for s in ['PythOn', 'iS', 'cOoL'] if s[0] < s[-1]]\n",
    "\n",
    "# Something is fishy here. Can you spot it?\n",
    "arr = [[3,2,1], ['a','b','c'], [('do',), ['re'], 'mi']]\n",
    "print([el.append(el[0] * 4) for el in arr])  # What is printed?\n",
    "print(arr)  # What is the content of `arr` at this point?\n",
    "\n",
    "[letter for letter in \"pYthON\" if letter.isupper()]\n",
    "{len(w) for w in [\"its\", \"the\", \"remix\", \"to\", \"ignition\"]}\n",
    "```"
   ]
  },
  {
   "cell_type": "code",
   "execution_count": null,
   "metadata": {},
   "outputs": [],
   "source": [
    "# Predict the output of the following comprehensions. Does the output match what you expect?\n",
    "print([x for x in [1, 2, 3, 4]])"
   ]
  },
  {
   "cell_type": "code",
   "execution_count": null,
   "metadata": {},
   "outputs": [],
   "source": [
    "print([n - 2 for n in range(10)])"
   ]
  },
  {
   "cell_type": "code",
   "execution_count": null,
   "metadata": {},
   "outputs": [],
   "source": [
    "print([k % 10 for k in range(41) if k % 3 == 0])"
   ]
  },
  {
   "cell_type": "code",
   "execution_count": null,
   "metadata": {},
   "outputs": [],
   "source": [
    "print([s.lower() for s in ['PythOn', 'iS', 'cOoL'] if s[0] < s[-1]])"
   ]
  },
  {
   "cell_type": "code",
   "execution_count": null,
   "metadata": {},
   "outputs": [],
   "source": [
    "# Something is fishy here. Can you spot it?\n",
    "arr = [[3,2,1], ['a','b','c'], [('do',), ['re'], 'mi']]\n",
    "print([el.append(el[0] * 4) for el in arr])  # What is printed?"
   ]
  },
  {
   "cell_type": "code",
   "execution_count": null,
   "metadata": {},
   "outputs": [],
   "source": [
    "print(arr)  # What is the content of `arr` at this point?"
   ]
  },
  {
   "cell_type": "code",
   "execution_count": null,
   "metadata": {},
   "outputs": [],
   "source": [
    "print([letter for letter in \"pYthON\" if letter.isupper()])"
   ]
  },
  {
   "cell_type": "code",
   "execution_count": null,
   "metadata": {},
   "outputs": [],
   "source": [
    "print({len(w) for w in [\"its\", \"the\", \"remix\", \"to\", \"ignition\"]})"
   ]
  },
  {
   "cell_type": "markdown",
   "metadata": {},
   "source": [
    "#### Write\n",
    "\n",
    "Write comprehensions to transform the input data structure into the output data structure:\n",
    "\n",
    "```python\n",
    "[0, 1, 2, 3] -> [1, 3, 5, 7]  # Double and add one\n",
    "['apple', 'orange', 'pear'] -> ['A', 'O', 'P']  # Capitalize first letter\n",
    "['apple', 'orange', 'pear'] -> ['apple', 'pear']  # Contains a 'p'\n",
    "\n",
    "[\"TA_parth\", \"student_poohbear\", \"TA_michael\", \"TA_guido\", \"student_htiek\"] -> [\"parth\", \"michael\", \"guido\"]\n",
    "['apple', 'orange', 'pear'] -> [('apple', 5), ('orange', 6), ('pear', 4)]\n",
    "\n",
    "['apple', 'orange', 'pear'] -> {'apple': 5, 'orange': 6, 'pear': 4}\n",
    "```"
   ]
  },
  {
   "cell_type": "code",
   "execution_count": null,
   "metadata": {},
   "outputs": [],
   "source": [
    "nums = [1, 3, 5, 7]\n",
    "fruits = ['apple', 'orange', 'pear']\n",
    "people = [\"TA_parth\", \"student_poohbear\", \"TA_michael\", \"TA_guido\", \"student_htiek\"]\n",
    "\n",
    "# Add your comprehensions here!"
   ]
  },
  {
   "cell_type": "markdown",
   "metadata": {},
   "source": [
    "### Lambdas\n",
    "\n",
    "Recall that lambda functions are anonymous, unnamed function objects created on the fly, usually to accomplish a small transformation. For example,\n",
    "\n",
    "```Python\n",
    "(lambda val: val ** 2)(5)  # => 25\n",
    "(lambda x, y: x * y)(3, 8)  # => 24\n",
    "(lambda s: s.strip().lower()[:2])('  PyTHon')  # => 'py'\n",
    "```\n",
    "\n",
    "On their own, `lambda`s aren't particularly useful, as demonstrated above, and are almost never created and invoked directly as shown. Usually, `lambda`s are used to avoid creating a formal function definiton for small throwaway functions, not only because they involves less typing (no `def` or `return` statement needed) but also, and perhaps more importantly, because these small functions won't pollute the enclosing namespace and provide the function implementation inline.\n",
    "\n",
    "Lambdas are also frequently used as arguments to or return values from higher-order functions, such as `map` and `filter`."
   ]
  },
  {
   "cell_type": "markdown",
   "metadata": {},
   "source": [
    "### Map\n",
    "\n",
    "Recall from class that `map(func, iterable)` applies a function over elements of an iterable.\n",
    "\n",
    "For each of the following rows, write a single statement using `map` that converts the left column into the right column:\n",
    "\n",
    "| From  | To| \n",
    "| --- | --- | \n",
    "| `['12', '-2', '0']` | `[12, -2, 0]` |\n",
    "| `['hello', 'world']`  | `[5, 5]` |\n",
    "| `['hello', 'world']`|`['olleh', 'dlrow']` |\n",
    "| `range(2, 6)`|`[(2, 4, 8), (3, 9, 27), (4, 16, 64), (5, 25, 125)]` |\n",
    "| `zip(range(2, 5), range(3, 9, 2))`|`[6, 15, 28]` |\n",
    "\n",
    "*Hint: you may need to wrap the output in a `list()` constructor to see it printed to console - that is, `list(map(..., ...))`*"
   ]
  },
  {
   "cell_type": "code",
   "execution_count": null,
   "metadata": {},
   "outputs": [],
   "source": [
    "# Write `map` expressions to convert the following inputs into the indicated outputs.\n",
    "# ['12', '-2', '0'] --> [12, -2, 0]\n",
    "\n",
    "# ['hello', 'world'] --> [5, 5]\n",
    "\n",
    "# ['hello', 'world']` --> ['olleh', 'dlrow']\n",
    "\n",
    "# range(2, 6) --> [(2, 4, 8), (3, 9, 27), (4, 16, 64), (5, 25, 125)]\n",
    "\n",
    "# zip(range(2, 5), range(3, 9, 2)) --> [6, 15, 28]\n"
   ]
  },
  {
   "cell_type": "markdown",
   "metadata": {},
   "source": [
    "### Filter\n",
    "\n",
    "Recall from class that `filter(pred, iterable)` keeps only those elements from an iterable that satisfy a predicate function.\n",
    "\n",
    "Write statements using `filter` that convert the following sequences from the left column to the right column:\n",
    "\n",
    "From  | To\n",
    "--- | ---\n",
    "`['12', '-2', '0']` | `['12', '0']`\n",
    "`['hello', 'world']`  | `['world']`\n",
    "`['Stanford', 'Cal', 'UCLA']`|`['Stanford']`\n",
    "`range(20)`|`[0, 3, 5, 6, 9, 10, 12, 15, 18]`\n",
    "\n",
    "As before, you may have to wrap the result in a call to `list(...)` to produce the filtered output."
   ]
  },
  {
   "cell_type": "code",
   "execution_count": null,
   "metadata": {},
   "outputs": [],
   "source": [
    "# Write `filter` expressions to convert the following inputs into the indicated outputs.\n",
    "# ['12', '-2', '0'] --> ['12', '0']\n",
    "\n",
    "# ['hello', 'world'] --> ['world']\n",
    "\n",
    "# ['Stanford', 'Cal', 'UCLA'] --> ['Stanford']\n",
    "\n",
    "# range(20) --> [0, 3, 5, 6, 9, 10, 12, 15, 18]\n"
   ]
  },
  {
   "cell_type": "markdown",
   "metadata": {},
   "source": [
    "### Useful Tools from the Standard Library (optional)"
   ]
  },
  {
   "cell_type": "markdown",
   "metadata": {},
   "source": [
    "#### Module: `functools`\n",
    "The `functools` module is a module in the standard library \"for higher order functions; functions that act on or return other functions.\"\n",
    "\n",
    "There is a utility in the `functools` module called `reduce`, which in Python 2.x was a builtin language feature but has since been relegated to this module. The `reduce` function is explained best by the [official documentation](https://docs.python.org/3/library/functools.html#functools.reduce):\n",
    "\n",
    "##### `functools.reduce(function, iterable[, initializer])`\n",
    "> Apply `function` of two arguments cumulatively to the items of `iterable`, from left to right, so as to reduce the iterable to a single value. For example, `functools.reduce(lambda x, y: x + y, [1, 2, 3, 4, 5])` calculates `((((1 + 2) + 3) + 4) + 5)`. The left argument, `x`, is the accumulated value and the right argument, `y`, is the update value from the sequence. If the optional `initializer` is present, it is placed before the items of the sequence in the calculation, and serves as a default when the iterable is empty. If `initializer` is not given and `iterable` contains only one item, the first item is returned.\n",
    "\n",
    "Use the `reduce` function to find the least common multiple (LCM) of an arbitrary amount of positive integer arguments. This can be accomplished in one line of Python. If no numbers are supplied to the function, you can return the value 1.\n",
    "\n",
    "Hint: Recall that, mathematically, the LCM of two numbers `x` and `y` can be expressed as `(x*y) // gcd(x, y)`, and that the LCM of a list of numbers `[x, y, z, ...]` is the same as the `LCM(...(LCM(LCM(x, y), z), ...)`."
   ]
  },
  {
   "cell_type": "code",
   "execution_count": null,
   "metadata": {},
   "outputs": [],
   "source": [
    "from functools import reduce\n",
    "from math import gcd\n",
    "\n",
    "def lcm(*nums):\n",
    "    \"\"\"Return the least common multiple of an arbitrary collection of numbers.\"\"\"\n",
    "    pass # Your implementation here. Use `reduce`. This function can be implemented in only one line!\n",
    "\n",
    "print(lcm(3, 5))\n",
    "print(lcm(41, 106, 12))\n",
    "print(lcm(1, 2, 6, 24, 120, 720))\n",
    "print(lcm(3))\n",
    "print(lcm())"
   ]
  },
  {
   "cell_type": "markdown",
   "metadata": {},
   "source": [
    "#### Custom comparison for `sort`, `max`, and `min`\n",
    "\n",
    "When ordering sequences, or finding the largest or smallest element of a sequence, Python defaults to a standard ordering for sequence elements of certain types. For instance, a collection of strings will be sorted alphabetically (by ASCII value), and a collection of tuples will sort lexicographically. Sometimes, however, we need to sort based on a custom key value. In Python, we can supply an optional `key` argument to `sorted(seq)`, `max(seq)`, `min(seq)`, or `seq.sort()` to determine the values used for ordering elements in a sequence. In Python, both `sorted(seq)` and `seq.sort()` are stable.\n",
    "\n",
    "Read the following code examples and see if you can justify to your neighbor why Python produces the answers it does in these cases.\n",
    "\n",
    "```Python\n",
    "words = ['pear', 'cabbage', 'apple', 'bananas']\n",
    "min(words)  # => 'apple'\n",
    "words.sort(key=lambda s: s[-1])  # Alternatively, key=operator.itemgetter(-1)\n",
    "words  # => ['cabbage', 'apple', 'pear', 'bananas'] ... Why 'cabbage' > 'apple'?\n",
    "max(words, key=len)  # 'cabbage' ... Why not 'bananas'?\n",
    "min(words, key=lambda s: s[1::2])  # What will this value be?\n",
    "```\n",
    "\n",
    "Next, write a function to return the two words with the highest alphanumeric score of uppercase letters. We've provided a function that computes the alphanumeric score of supplied letters, which must be a string containing only uppercase letters. You may want to use `filter` in conjunction with any other functions we've seen."
   ]
  },
  {
   "cell_type": "code",
   "execution_count": null,
   "metadata": {},
   "outputs": [],
   "source": [
    "def alpha_score(upper_letters):\n",
    "    \"\"\"\n",
    "    Computes the alphanumeric sum of letters in a string.\n",
    "    Prerequisite: upper_letters is composed entirely of capital letters.\n",
    "    \"\"\"\n",
    "    return sum(map(lambda l: 1 + ord(l) - ord('A'), upper_letters))\n",
    "\n",
    "def two_best(words):\n",
    "    pass\n",
    "\n",
    "print(two_best(['hEllO', 'wOrLD', 'i', 'aM', 'PyThOn']))\n",
    "# => ['PyThOn', 'wOrLD']"
   ]
  },
  {
   "cell_type": "markdown",
   "metadata": {},
   "source": [
    "## Iterators\n",
    "\n",
    "Recall from class than an iterator is an object that represents a stream of data delivered one value at a time."
   ]
  },
  {
   "cell_type": "markdown",
   "metadata": {},
   "source": [
    "### Iterator Consumption\n",
    "Suppose the following two lines of code have been run:\n",
    "\n",
    "```Python\n",
    "it = iter(range(100))\n",
    "67 in it  # => True\n",
    "```\n",
    "\n",
    "What is the result of running each of the following lines of code?\n",
    "\n",
    "```Python\n",
    "next(it)  # => ??\n",
    "37 in it  # => ??\n",
    "next(it)  # => ??\n",
    "```\n",
    "\n",
    "With a partner, discuss why we see these results."
   ]
  },
  {
   "cell_type": "code",
   "execution_count": null,
   "metadata": {},
   "outputs": [],
   "source": [
    "it = iter(range(100))\n",
    "67 in it  # => True\n",
    "\n",
    "print(next(it))  # => ??\n",
    "print(37 in it)  # => ??\n",
    "print(next(it))  # => ??"
   ]
  },
  {
   "cell_type": "markdown",
   "metadata": {},
   "source": [
    "### Module: `itertools`\n",
    "\n",
    "Python ships with a spectacular module for manipulating iterators called `itertools`. Take a moment to read through the [documentation page for itertools](https://docs.python.org/3/library/itertools.html).\n",
    "\n",
    "Predict the output of the following pieces of code:\n",
    "\n",
    "```Python\n",
    "import itertools\n",
    "import operator\n",
    "\n",
    "for el in itertools.permutations('XKCD', 2):\n",
    "    print(el, end=', ')\n",
    "\n",
    "for el in itertools.cycle('LO'):\n",
    "    print(el, end='')  # Don't run this one. Why not?\n",
    "\n",
    "itertools.starmap(operator.mul, itertools.zip_longest([3,5,7],[2,3], fillvalue=1))\n",
    "```"
   ]
  },
  {
   "cell_type": "code",
   "execution_count": null,
   "metadata": {},
   "outputs": [],
   "source": [
    "import itertools\n",
    "import operator\n",
    "\n",
    "for el in itertools.permutations('XKCD', 2):\n",
    "    print(el, end=', ')\n",
    "print()\n",
    "\n",
    "# for el in itertools.cycle('LO'):\n",
    "#     print(el, end='')  # Don't run this one. Why not?\n",
    "\n",
    "print(list(itertools.starmap(operator.mul, itertools.zip_longest([3,5,7],[2,3], fillvalue=1))))"
   ]
  },
  {
   "cell_type": "markdown",
   "metadata": {},
   "source": [
    "## Generators"
   ]
  },
  {
   "cell_type": "markdown",
   "metadata": {},
   "source": [
    "### Triangle Generator\n",
    "\n",
    "Write a infinite generator that successively yields the triangle numbers `0, 1, 3, 6, 10, ...` which are formed by successively adding sequential positive integers (`3 = 1 + 2`, `6 = 1 + 2 + 3`, `10 = 1 + 2 + 3 + 4`, ...)."
   ]
  },
  {
   "cell_type": "code",
   "execution_count": null,
   "metadata": {},
   "outputs": [],
   "source": [
    "def generate_triangles():\n",
    "    \"\"\"Generate an infinite stream of triangle numbers.\"\"\"\n",
    "    pass  # Your implementation here\n",
    "\n",
    "g = generate_triangles()\n",
    "# Print the first 5 generated triangle numbers. Should be 0, 1, 3, 6, 10\n",
    "for _ in range(5):\n",
    "    print(next(g))"
   ]
  },
  {
   "cell_type": "markdown",
   "metadata": {},
   "source": [
    "Use your generator to write a function `triangles_under(n)` that prints out all triangle numbers strictly less than the parameter `n`."
   ]
  },
  {
   "cell_type": "markdown",
   "metadata": {},
   "source": [
    "## Linear Algebra (Challenge)\n",
    "\n",
    "These challenge problems test your ability to write compact Python functions using the tools of functional programming and some good old-fashioned cleverness. As always, these challenge problems are optional, and are much harder than the rest of the lab. These challenge problems also focus heavily on linear algebra, so if you are less familiar with linear algebra concepts, we recommend that you skip over this portion.\n",
    "\n",
    "Also, Python has incredible library support for working with these mathematical concepts through a package named `numpy`, so we will almost never write linear algebra code from scratch."
   ]
  },
  {
   "cell_type": "markdown",
   "metadata": {},
   "source": [
    "### Dot Product\n",
    "Write a one-liner in Python that takes the dot product of two lists `u` and `v`. You can assume that the lists are the same size, and are standard Python lists (not anything special, like `numpy.ndarray`s). For example, `dot_product([1, 3, 5], [2, 4, 6])` should return `44` (since `1 * 2 + 3 * 4 + 5 * 6 = 44`)."
   ]
  },
  {
   "cell_type": "code",
   "execution_count": null,
   "metadata": {},
   "outputs": [],
   "source": [
    "def dot_product(u, v):\n",
    "    \"\"\"Return the dot product of two equal-length lists of numbers.\"\"\"\n",
    "    pass"
   ]
  },
  {
   "cell_type": "markdown",
   "metadata": {},
   "source": [
    "### Matrix Transposition\n",
    "Write a one-liner in Python to transpose a matrix. Assume that the input matrix is a tuple-of-tuples that represents a valid matrix, not necessarily square. Again, do not use `numpy` or any other libraries - just raw data structure manipulation and our functional tools.\n",
    "\n",
    "Not only can you do this in one line - you can even do it in 14 characters!\n",
    "\n",
    "For example,\n",
    "\n",
    "```Python\n",
    "matrix = (\n",
    "    (1, 2, 3, 4),\n",
    "    (5, 6, 7, 8),\n",
    "    (9,10,11,12)\n",
    ")\n",
    "\n",
    "transpose(matrix)\n",
    "# returns \n",
    "# (\n",
    "#     (1, 5, 9),\n",
    "#     (2, 6, 10),\n",
    "#     (3, 7, 11),\n",
    "#     (4, 8, 12)\n",
    "# )\n",
    "```"
   ]
  },
  {
   "cell_type": "code",
   "execution_count": null,
   "metadata": {},
   "outputs": [],
   "source": [
    "def transpose(m):\n",
    "    \"\"\"Return the transpose of a matrix represented as a rectangular tuple-of-tuples.\"\"\"\n",
    "    pass"
   ]
  },
  {
   "cell_type": "markdown",
   "metadata": {},
   "source": [
    "### Matrix Multiplication\n",
    "Write another one-liner in Python to take the product of two matrices `m1` and `m2`. You can use the `dot_product` and `transpose` functions you already wrote."
   ]
  },
  {
   "cell_type": "code",
   "execution_count": null,
   "metadata": {},
   "outputs": [],
   "source": [
    "def matmul(m1, m2):\n",
    "    \"\"\"Return the matrix multiplication of two matrices as rectangular 2D tuples.\"\"\"\n",
    "    pass"
   ]
  },
  {
   "cell_type": "markdown",
   "metadata": {},
   "source": [
    "### Lazy Generation\n",
    "Rewrite your `transpose` and `matmul` functions above so that they are lazily evaluated. That is, rows (or columns) of the output matrix shouldn't be computed when the function is called.\n",
    "\n",
    "*Hint*: Remember how Michael described generators as \"lazy\"? Try to use that!"
   ]
  },
  {
   "cell_type": "code",
   "execution_count": null,
   "metadata": {},
   "outputs": [],
   "source": [
    "def lazy_transpose(m):\n",
    "    \"\"\"Return the transpose of a matrix represented as a rectangular tuple-of-tuples.\"\"\"\n",
    "    pass\n",
    "\n",
    "def lazy_matmul(m1, m2):\n",
    "    \"\"\"Return the matrix multiplication of two matrices as rectangular 2D tuples.\"\"\"\n",
    "    pass"
   ]
  },
  {
   "cell_type": "code",
   "execution_count": null,
   "metadata": {},
   "outputs": [],
   "source": [
    "## Linear Algebra (Challenge)\n",
    "\n",
    "These challenge problems test your ability to write compact Python functions using the tools of functional programming and some good old-fashioned cleverness. As always, these challenge problems are optional, and are much harder than the rest of the lab. These challenge problems also focus heavily on linear algebra, so if you are less familiar with linear algebra concepts, we recommend that you skip over this portion.\n",
    "\n",
    "Also, Python has incredible library support for working with these mathematical concepts through a package named `numpy`, so we will almost never write linear algebra code from scratch.\n",
    "\n",
    "### Dot Product\n",
    "Write a one-liner in Python that takes the dot product of two lists `u` and `v`. You can assume that the lists are the same size, and are standard Python lists (not anything special, like `numpy.ndarray`s). For example, `dot_product([1, 3, 5], [2, 4, 6])` should return `44` (since `1 * 2 + 3 * 4 + 5 * 6 = 44`).\n",
    "\n",
    "def dot_product(u, v):\n",
    "    \"\"\"Return the dot product of two equal-length lists of numbers.\"\"\"\n",
    "    pass\n",
    "\n",
    "### Matrix Transposition\n",
    "Write a one-liner in Python to transpose a matrix. Assume that the input matrix is a tuple-of-tuples that represents a valid matrix, not necessarily square. Again, do not use `numpy` or any other libraries - just raw data structure manipulation and our functional tools.\n",
    "\n",
    "Not only can you do this in one line - you can even do it in 14 characters!\n",
    "\n",
    "For example,\n",
    "\n",
    "```Python\n",
    "matrix = (\n",
    "    (1, 2, 3, 4),\n",
    "    (5, 6, 7, 8),\n",
    "    (9,10,11,12)\n",
    ")\n",
    "\n",
    "transpose(matrix)\n",
    "# returns \n",
    "# (\n",
    "#     (1, 5, 9),\n",
    "#     (2, 6, 10),\n",
    "#     (3, 7, 11),\n",
    "#     (4, 8, 12)\n",
    "# )\n",
    "```\n",
    "\n",
    "def transpose(m):\n",
    "    \"\"\"Return the transpose of a matrix represented as a rectangular tuple-of-tuples.\"\"\"\n",
    "    pass\n",
    "\n",
    "### Matrix Multiplication\n",
    "Write another one-liner in Python to take the product of two matrices `m1` and `m2`. You can use the `dot_product` and `transpose` functions you already wrote.\n",
    "\n",
    "def matmul(m1, m2):\n",
    "    \"\"\"Return the matrix multiplication of two matrices as rectangular 2D tuples.\"\"\"\n",
    "    pass\n",
    "\n",
    "### Lazy Generation\n",
    "Rewrite your `transpose` and `matmul` functions above so that they are lazily evaluated. That is, rows (or columns) of the output matrix shouldn't be computed when the function is called.\n",
    "\n",
    "*Hint*: Remember how Michael described generators as \"lazy\"? Try to use that!\n",
    "\n",
    "def lazy_transpose(m):\n",
    "    \"\"\"Return the transpose of a matrix represented as a rectangular tuple-of-tuples.\"\"\"\n",
    "    pass\n",
    "\n",
    "def lazy_matmul(m1, m2):\n",
    "    \"\"\"Return the matrix multiplication of two matrices as rectangular 2D tuples.\"\"\"\n",
    "    passdef triangles_under(n):\n",
    "    \"\"\"Print all triangle numbers less than an upper bound.\"\"\"\n",
    "    pass\n",
    "\n",
    "triangles_under(1000)"
   ]
  },
  {
   "cell_type": "markdown",
   "metadata": {},
   "source": [
    "## Building Decorators\n",
    "\n",
    "Recall that a decorator is a special type of function that accepts a function as an argument and returns a new function which (usually) wraps some of the behavior of the supplied function.\n",
    "\n",
    "Furthermore, recall that the `@decorator` syntax is syntactic sugar.\n",
    "\n",
    "```Python\n",
    "@decorator\n",
    "def fn():\n",
    "    pass\n",
    "```\n",
    "\n",
    "is equivalent to\n",
    "\n",
    "```Python\n",
    "def fn():\n",
    "    pass\n",
    "fn = decorator(fn)\n",
    "```"
   ]
  },
  {
   "cell_type": "markdown",
   "metadata": {},
   "source": [
    "### Review\n",
    "\n",
    "In lecture, we implemented the `debug` decorator.\n",
    "\n",
    "```Python\n",
    "def debug(function):\n",
    "    def wrapper(*args, **kwargs):\n",
    "        print(\"Arguments:\", args, kwargs)\n",
    "        return function(*args, **kwargs)\n",
    "    return wrapper\n",
    "```\n",
    "\n",
    "Take a moment, with a partner, and make sure you understand what is happening in the above lines. Why are the arguments to wrapper on the second line `*args` and `**kwargs` instead of something else? What would happen if we didn't `return wrapper` at the end of the function body?"
   ]
  },
  {
   "cell_type": "markdown",
   "metadata": {},
   "source": [
    "### Automatic Caching\n",
    "In class, we wrote a decorator `memoize` that will automatically caches any calls to the decorated function. You can assume that all arguments passed to the decorated function will always be hashable types.\n",
    "\n",
    "```Python\n",
    "def memoize(function):\n",
    "    cache = {}\n",
    "    def memoized_fn(*args):\n",
    "        if args not in cache:\n",
    "            cache[args] = function(*args)\n",
    "        return cache[args]\n",
    "    return memoized_fn\n",
    "```\n",
    "\n",
    "We saw how one use case for this in class:\n",
    "\n",
    "```Python\n",
    "@memoize\n",
    "def fib(n):\n",
    "    return fib(n-1) + fib(n-2) if n > 2 else 1\n",
    "\n",
    "fib(10)  # 55 (takes a moment to execute)\n",
    "fib(10)  # 55 (returns immediately)\n",
    "fib(100) # doesn't take forever\n",
    "fib(400) # doesn't raise RuntimeError\n",
    "```\n",
    "\n",
    "#### Cache Options (Challenge)\n",
    "\n",
    "Add `maxsize` and `eviction_policy` keyword arguments, with reasonable defaults (perhaps `maxsize=None` as a sentinel), to your `cache` decorator. `eviction_policy` should be one of `'LRU'`, `'MRU'`, or `'random'`. It can be tricky to figure out how to construct a decorator with arguments.\n",
    "\n",
    "Also, add function attributes called `.cache_info` and `.cache_clear` which can be called to get aggregate statistics about the cache  and clear the cache, respectively.\n",
    "\n",
    "*Note*: This caching decorator (with arguments!) is actually implemented as part of the language in `functools.lru_cache`"
   ]
  },
  {
   "cell_type": "code",
   "execution_count": null,
   "metadata": {},
   "outputs": [],
   "source": [
    "def memoize(???):\n",
    "    pass\n",
    "\n",
    "@memoize(???)\n",
    "def fib(n):\n",
    "    return fib(n-1) + fib(n-2) if n > 2 else 1"
   ]
  },
  {
   "cell_type": "markdown",
   "metadata": {},
   "source": [
    "### Better Debugging Decorator\n",
    "The `debug` decorator we wrote in class isn't very good. It doesn't tell us which function is being called, and it just dumps a tuple of positional arguments and a dictionary of keyword arguments - it doesn't even know what the names of the positional arguments are! If the default arguments aren't overridden, it won't show us their value either.\n",
    "\n",
    "Use function attributes to improve our `debug` decorator into a `print_args` decorator that is \"as good as you can make it.\"\n",
    "\n",
    "```Python\n",
    "def print_args(function):\n",
    "    def wrapper(*args, **kwargs):\n",
    "        # (1) You could do something here\n",
    "        retval = function(*args, **kwargs)\n",
    "        # (2) You could also do something here\n",
    "        return retval\n",
    "    return wrapper\n",
    "```\n",
    "\n",
    "*Hint: Consider using the attributes `fn.__name__` and `fn.__code__`. You'll have to investigate these attributes, but I will say that the `fn.__code__` code object contains a number of useful attributes - for instance, `fn.__code__.co_varnames`. Check it out! More information on function attributes is available in the latter half of Lab 3.*\n",
    "\n",
    "#### Note\n",
    "There are a lot of subtleties to this function, since functions can be called in a number of different ways. How does your `print_args` handle keyword arguments or even keyword-only arguments? Variadic positional arguments? Variadic keyword arguments? For more customization, look at `fn.__defaults__`, `fn.__kwdefaults__`, as well as other attributes of `fn.__code__`."
   ]
  },
  {
   "cell_type": "code",
   "execution_count": null,
   "metadata": {},
   "outputs": [],
   "source": [
    "def print_args(???):\n",
    "    pass\n",
    "\n",
    "@print_args(???)\n",
    "def is_prime(n):\n",
    "    for i in range(2, n):\n",
    "        if n % i == 0:\n",
    "            return False\n",
    "    return True\n",
    "\n",
    "print(is_prime(198239813))\n",
    "print(is_prime(4028769383))\n",
    "\n",
    "@print_args(???)\n",
    "def stylize_quote(quote, **kwargs):\n",
    "    print('> {}'.format(quote))\n",
    "    print('-'*(len(quote) + 2))\n",
    "    \n",
    "    for k, v in kwargs.items():\n",
    "        print('{k}: {v}'.format(k=k, v=v))\n",
    "\n",
    "stylize_quote('Doth mother know you weareth her drapes?', speaker='Iron Man', year='2012', movie='The Avengers')\n",
    "\n",
    "@print_args(???)\n",
    "def draw_table(num_rows, num_cols):\n",
    "    sep = '+' + '+'.join(['-'] * num_cols) + '+'\n",
    "    line = '|' + '|'.join([' '] * num_cols) + '|'\n",
    "    \n",
    "    for _ in range(num_rows):\n",
    "        print(sep)\n",
    "        print(line)\n",
    "    print(sep)\n",
    "    \n",
    "draw_table(10, 10)\n",
    "draw_table(3, 8)"
   ]
  },
  {
   "cell_type": "markdown",
   "metadata": {},
   "source": [
    "### Dynamic Type Checker (challenge)\n",
    "\n",
    "Functions in Python can be optionally annotated by semantically-useless but structurally-valuable type annotations. For example:\n",
    "\n",
    "```Python\n",
    "def foo(a: int, b: str) -> bool:\n",
    "    return b[a] == 'X'\n",
    "\n",
    "foo.__annotations__  # => {'a': int, 'b': str, 'return': bool}\n",
    "```\n",
    "\n",
    "Write a runtime type checker, implemented as a decorator, that enforces that the types of arguments and the return value are valid.\n",
    "\n",
    "```Python\n",
    "def enforce_types(function):\n",
    "    pass  # Your implementation here\n",
    "```\n",
    "\n",
    "For example:\n",
    "\n",
    "```Python\n",
    "@enforce_types\n",
    "def foo(a: int, b: str) -> bool:\n",
    "    if a == -1:\n",
    "        return 'Gotcha!'\n",
    "    return b[a] == 'X'\n",
    "\n",
    "foo(3, 'abcXde')  # => True\n",
    "foo(2, 'python')  # => False\n",
    "foo(1, 4)  # prints \"Invalid argument type for b: expected str, received int\n",
    "foo(-1, '')  # prints \"Invalid return type: expected bool, received str\n",
    "```\n",
    "\n",
    "There are lots of nuances to this function. What happens if some annotations are missing? How are keyword arguments and variadic arguments handled? What happens if the expected type of a parameter is not a primitive type? Can you annotate a function to describe that a parameter should be a list of strings? A tuple of (str, bool) pairs? A dictionary mapping strings to lists of integers? Read more about [advanced type hints](https://docs.python.org/3/library/typing.html) from the documentation.\n",
    "\n",
    "As you make progress, show your decorator to a member of the course staff. "
   ]
  },
  {
   "cell_type": "code",
   "execution_count": null,
   "metadata": {},
   "outputs": [],
   "source": [
    "def enforce_types(function):\n",
    "    pass # Your implementation here\n",
    "\n",
    "@enforce_types\n",
    "def foo(a: int, b: str) -> bool:\n",
    "    if a == -1:\n",
    "        return 'Gotcha!'\n",
    "    return b[a] == 'X'\n",
    "\n",
    "foo(3, 'abcXde')  # => True\n",
    "foo(2, 'python')  # => False\n",
    "foo(1, 4)  # prints \"Invalid argument type for b: expected str, received int\n",
    "foo(-1, '')  # prints \"Invalid return type: expected bool, received str"
   ]
  },
  {
   "cell_type": "markdown",
   "metadata": {},
   "source": [
    "# Credit\n",
    "There are so many people to thank for the problems in this lab. Sam Redmond (@sredmond), most notably, assembled some of these problems. Major credit to PSF for incredibly clear/readable documentation making this all possible, as well as the linked resources. Additional credit goes to a lot of websites, whose names I've unfortunately forgotten along the way. Credit to everyone!"
   ]
  },
  {
   "cell_type": "markdown",
   "metadata": {},
   "source": [
    "> With &#129412;s by @psarin and @coopermj"
   ]
  }
 ],
 "metadata": {
  "kernelspec": {
   "display_name": "Python 3",
   "language": "python",
   "name": "python3"
  },
  "language_info": {
   "codemirror_mode": {
    "name": "ipython",
    "version": 3
   },
   "file_extension": ".py",
   "mimetype": "text/x-python",
   "name": "python",
   "nbconvert_exporter": "python",
   "pygments_lexer": "ipython3",
   "version": "3.8.0"
  }
 },
 "nbformat": 4,
 "nbformat_minor": 2
}
