{
 "cells": [
  {
   "cell_type": "markdown",
   "metadata": {},
   "source": [
    "## Converting Images to ASCII Art\n",
    "\n",
    "In this exercise, we'll first load a secret image. Then, we'll write a script that converts images to ASCII art.\n",
    "\n",
    "> \"What's ASCII art, Parth?\" you ask.\n",
    ">\n",
    "> Have I got something cool to show you... [https://www.asciiart.eu/](https://www.asciiart.eu/)\n",
    ">\n",
    "> \"😱,\" you reply.\n",
    "\n",
    "As we saw in lecture, `pandas` is a powerful library for interfacing with data. You can read the documentation [here](). Let's use `pandas` and `Pillow` to reconstruct a secret image.\n",
    "\n",
    "The data for this image is in the file [https://github.com/stanfordpython/python-labs/blob/master/notebooks/lab-6/secret.csv](https://github.com/stanfordpython/python-labs/blob/master/notebooks/lab-6/secret.csv). Load that file into a `pandas` DataFrame by either downloading it from that URL or using requests to fetch the data from [https://raw.githubusercontent.com/stanfordpython/python-labs/master/notebooks/lab-6/secret.csv](https://raw.githubusercontent.com/stanfordpython/python-labs/master/notebooks/lab-6/secret.csv) (recall how we used `BytesIO` to feed requests data directly into `Pillow`)."
   ]
  },
  {
   "cell_type": "code",
   "execution_count": null,
   "metadata": {},
   "outputs": [],
   "source": [
    "import pandas as pd\n",
    "import numpy as np\n",
    "from PIL import Image\n",
    "import requests\n",
    "from io import BytesIO"
   ]
  },
  {
   "cell_type": "code",
   "execution_count": null,
   "metadata": {},
   "outputs": [],
   "source": [
    "# Load the CSV into a pandas DataFrame:"
   ]
  },
  {
   "cell_type": "markdown",
   "metadata": {},
   "source": [
    "The secret image is a black and white image that measures `35 x 80` pixels. Convert the DataFrame to a `numpy` array, then convert it to a `Pillow` image. Make sure that the data type for the array is `np.uint8` so that `Pillow` can process the array."
   ]
  },
  {
   "cell_type": "code",
   "execution_count": null,
   "metadata": {},
   "outputs": [],
   "source": [
    "# Convert the DataFrame into a numpy array:\n",
    "\n",
    "# Convert the numpy array into a Pillow image:"
   ]
  },
  {
   "cell_type": "markdown",
   "metadata": {},
   "source": [
    "Take a look at the image! Cuuute..."
   ]
  },
  {
   "cell_type": "code",
   "execution_count": null,
   "metadata": {},
   "outputs": [],
   "source": []
  },
  {
   "cell_type": "markdown",
   "metadata": {},
   "source": [
    "Now, let's convert the image to ASCII art! A neat way to do this is to convert each pixel of the image to a character based on its value (since our image is black and white, each pixel only has one value, between 0 and 255) where the darker pixels get converted to darker characters. \n",
    "\n",
    "Let's split `range(256)` into four parts, and assign each part to a character of varying darkness. Use the following rules to convert each pixel to an ASCII character:\n",
    "```\n",
    "px  < 64:          '▓'\n",
    "64  <= px < 128:   '▒'\n",
    "128 <= px < 192:   '░'\n",
    "192 <= px:         ' '\n",
    "```\n",
    "(that last character is a space)\n",
    "\n",
    "The `bisect` library might be helpful for this. Do this for every pixel in `a`. Then, you should be able to join the characters within each of the rows with `''` and join the rows with `'\\n'` to get the final output. That'll be something like:\n",
    "\n",
    "```python\n",
    "'\\n'.join(''.join(row) for row in ascii_array)\n",
    "```\n",
    "\n",
    "We've stored the characters and breakpoints in two lists:"
   ]
  },
  {
   "cell_type": "code",
   "execution_count": null,
   "metadata": {},
   "outputs": [],
   "source": [
    "import bisect\n",
    "characters = '▓▒░ '\n",
    "breakpoints = [64, 128, 192]\n",
    "\n",
    "# Convert the image to ASCII and print it out:"
   ]
  },
  {
   "cell_type": "markdown",
   "metadata": {},
   "source": [
    "My heart... 😍\n",
    "\n",
    "There's one more detail that we can improve to get better results. Each pixel is *square*, but we're replacing it with characters like `'▓'`, which are taller than they are wide. To compensate for this, we can increase the width of the image, convert that to a `numpy` array, and *then* convert the array to ASCII.\n",
    "\n",
    "You can do this with\n",
    "```python\n",
    "im = im.resize((int(im.size[0]*1.5), im.size[1])) # scale width by 1.5\n",
    "stretched_arr = np.asarray(im)\n",
    "... # convert to ascii\n",
    "```\n",
    "\n",
    "You're done with this part of the lab, but if you want to go back above and modify your previous code, be my guest!\n",
    "\n",
    "> \"So... what can I do with ASCII art, Parth?\" you might say.\n",
    "> \n",
    "> Marvel at it of course! Tell your family, your friends, the world must know!\n",
    "> After that's done, you can edit `/etc/motd` (stands for Message Of The Day) if you're on a MacOS or Linux computer and put the ASCII art there. Then, every time you open a terminal, the art will print out first! You may need to edit with `sudo`, so one option would be `$ sudo nano /etc/motd`.\n",
    "> My MOTD is:\n",
    "```\n",
    "                                            |\n",
    "                                           \\ /\n",
    "                      ~~%%%%%%%%_,_,    --_,* ---\n",
    "                   ~~%%%%%%%%%*\"/./   _,=\" / \\\n",
    "                 ~~%%%%%%%*'   /  *.=\"      |\n",
    "              ~~%%%%%%%%*  .    ,__*.\n",
    "            ~~%%%%%%%%*   *      \\O\\*\n",
    "          ~~%%%%%%%%*    *           *\n",
    "       ~~%%%%%%%%*       *. _*        *\n",
    "    ~~%%%%%%%%*          *'`*._        `*\n",
    " ~~%%%%%%%%%*           *      `*.     (,*\n",
    "~~%%%%%%%%*             *         *._\\_.*\n",
    "~~%%%%%%%*              *\n",
    "```\n",
    "> \n",
    "> \\*shocked unicorn reaccs only\\*"
   ]
  },
  {
   "cell_type": "code",
   "execution_count": null,
   "metadata": {},
   "outputs": [],
   "source": []
  }
 ],
 "metadata": {
  "kernelspec": {
   "display_name": "Python 3",
   "language": "python",
   "name": "python3"
  },
  "language_info": {
   "codemirror_mode": {
    "name": "ipython",
    "version": 3
   },
   "file_extension": ".py",
   "mimetype": "text/x-python",
   "name": "python",
   "nbconvert_exporter": "python",
   "pygments_lexer": "ipython3",
   "version": "3.8.0"
  }
 },
 "nbformat": 4,
 "nbformat_minor": 2
}
